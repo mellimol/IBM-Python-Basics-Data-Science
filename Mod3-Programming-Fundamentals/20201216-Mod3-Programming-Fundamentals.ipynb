{
 "cells": [
  {
   "cell_type": "markdown",
   "metadata": {},
   "source": [
    "# Module 3 - Programming Fundamentals"
   ]
  },
  {
   "cell_type": "markdown",
   "metadata": {},
   "source": [
    "## 3.1 Conditions and Branching"
   ]
  },
  {
   "cell_type": "markdown",
   "metadata": {},
   "source": [
    "### 3.1.1 Comparison Operators"
   ]
  },
  {
   "cell_type": "code",
   "execution_count": 2,
   "metadata": {},
   "outputs": [
    {
     "data": {
      "text/plain": [
       "False"
      ]
     },
     "execution_count": 2,
     "metadata": {},
     "output_type": "execute_result"
    }
   ],
   "source": [
    "# Determine if two values are equal\n",
    "\n",
    "fallout = 4\n",
    "fallout == 76"
   ]
  },
  {
   "cell_type": "code",
   "execution_count": 3,
   "metadata": {},
   "outputs": [
    {
     "data": {
      "text/plain": [
       "False"
      ]
     },
     "execution_count": 3,
     "metadata": {},
     "output_type": "execute_result"
    }
   ],
   "source": [
    "# Determine if one value is greater than another\n",
    "\n",
    "fallout > 76"
   ]
  },
  {
   "cell_type": "code",
   "execution_count": 4,
   "metadata": {},
   "outputs": [
    {
     "data": {
      "text/plain": [
       "True"
      ]
     },
     "execution_count": 4,
     "metadata": {},
     "output_type": "execute_result"
    }
   ],
   "source": [
    "# Determine if one value is greater than another\n",
    "\n",
    "fallout > 3"
   ]
  },
  {
   "cell_type": "code",
   "execution_count": 5,
   "metadata": {},
   "outputs": [
    {
     "data": {
      "text/plain": [
       "True"
      ]
     },
     "execution_count": 5,
     "metadata": {},
     "output_type": "execute_result"
    }
   ],
   "source": [
    "# Using the inequality expression to produce true\n",
    "\n",
    "fallout != 76"
   ]
  },
  {
   "cell_type": "code",
   "execution_count": 6,
   "metadata": {},
   "outputs": [
    {
     "data": {
      "text/plain": [
       "False"
      ]
     },
     "execution_count": 6,
     "metadata": {},
     "output_type": "execute_result"
    }
   ],
   "source": [
    "# Using the inequality expression to produce false\n",
    "\n",
    "fallout != 4"
   ]
  },
  {
   "cell_type": "code",
   "execution_count": 9,
   "metadata": {},
   "outputs": [
    {
     "data": {
      "text/plain": [
       "False"
      ]
     },
     "execution_count": 9,
     "metadata": {},
     "output_type": "execute_result"
    }
   ],
   "source": [
    "# Use the equality operator on a string\n",
    "\n",
    "'Star Wars' == 'Star Trek'"
   ]
  },
  {
   "cell_type": "code",
   "execution_count": 8,
   "metadata": {},
   "outputs": [
    {
     "data": {
      "text/plain": [
       "True"
      ]
     },
     "execution_count": 8,
     "metadata": {},
     "output_type": "execute_result"
    }
   ],
   "source": [
    "# Use the inequality operator on a string\n",
    "\n",
    "'Star Wars' != 'Star Trek'"
   ]
  },
  {
   "cell_type": "code",
   "execution_count": 10,
   "metadata": {},
   "outputs": [
    {
     "data": {
      "text/plain": [
       "True"
      ]
     },
     "execution_count": 10,
     "metadata": {},
     "output_type": "execute_result"
    }
   ],
   "source": [
    "# Value of letters and symbols are determined by ASCII value\n",
    "# First letter takes precedence\n",
    "\n",
    "'BA' > 'AB'"
   ]
  },
  {
   "cell_type": "markdown",
   "metadata": {},
   "source": [
    "### 3.1.2 Branching"
   ]
  },
  {
   "cell_type": "code",
   "execution_count": 23,
   "metadata": {},
   "outputs": [
    {
     "name": "stdout",
     "output_type": "stream",
     "text": [
      "You can have a beer or cocktail\n",
      "Then go home\n"
     ]
    }
   ],
   "source": [
    "# Using if statement\n",
    "\n",
    "# age = 17\n",
    "age = 20\n",
    "\n",
    "# Expression that can be true or false\n",
    "if age >= 18:\n",
    "    print(\"You can have a beer or cocktail\")\n",
    "print(\"Then go home\")"
   ]
  },
  {
   "cell_type": "code",
   "execution_count": 22,
   "metadata": {},
   "outputs": [
    {
     "name": "stdout",
     "output_type": "stream",
     "text": [
      "You can have a beer or cocktail\n",
      "Then go home\n"
     ]
    }
   ],
   "source": [
    "# Using the else statement\n",
    "\n",
    "if age >= 18:\n",
    "    print(\"You can have a beer or cocktail\")\n",
    "else:\n",
    "    print(\"You can have a mocktail or soda\")\n",
    "    \n",
    "print(\"Then go home\")"
   ]
  },
  {
   "cell_type": "code",
   "execution_count": 29,
   "metadata": {},
   "outputs": [
    {
     "name": "stdout",
     "output_type": "stream",
     "text": [
      "You can have milk or soda\n",
      "Then go home\n"
     ]
    }
   ],
   "source": [
    "# Using the elif statement\n",
    "\n",
    "age = 10\n",
    "\n",
    "if age >= 18:\n",
    "    print(\"You can have a beer or cocktail\")\n",
    "elif age < 15:\n",
    "    print(\"You can have milk or soda\")\n",
    "else:\n",
    "    print(\"You can have a mocktail or soda\")\n",
    "    \n",
    "print(\"Then go home\")"
   ]
  },
  {
   "cell_type": "code",
   "execution_count": 33,
   "metadata": {},
   "outputs": [
    {
     "name": "stdout",
     "output_type": "stream",
     "text": [
      "This title was released before the year 2000\n",
      "Enjoy playing the game!\n"
     ]
    }
   ],
   "source": [
    "# Retro game condition statement example\n",
    "\n",
    "game_release = 1999\n",
    "\n",
    "if game_release < 2000:\n",
    "    print(\"This retro title was released before the year 2000\")\n",
    "print(\"Enjoy playing the game!\")"
   ]
  },
  {
   "cell_type": "code",
   "execution_count": 35,
   "metadata": {},
   "outputs": [
    {
     "name": "stdout",
     "output_type": "stream",
     "text": [
      "This title was released after the year 2000\n",
      "Enjoy playing the game!\n"
     ]
    }
   ],
   "source": [
    "# Retro game condition statement example using else\n",
    "\n",
    "game_release = 2004\n",
    "\n",
    "if game_release < 2000:\n",
    "    print(\"This retro title was released before the year 2000\")\n",
    "else:\n",
    "    print(\"This title was released after the year 2000\")\n",
    "    \n",
    "print(\"Enjoy playing the game!\")"
   ]
  },
  {
   "cell_type": "markdown",
   "metadata": {},
   "source": [
    "### 3.1.3 Logical Operators"
   ]
  },
  {
   "cell_type": "markdown",
   "metadata": {},
   "source": [
    "Logical operators include 'and', 'or' and 'not'.\n",
    "\n",
    "They allow you to combine or modify conditions (check more than one condition at once)."
   ]
  },
  {
   "cell_type": "code",
   "execution_count": 36,
   "metadata": {},
   "outputs": [
    {
     "name": "stdout",
     "output_type": "stream",
     "text": [
      "This retro title was released in the 90's\n",
      "\n",
      "Enjoy playing the game!\n"
     ]
    }
   ],
   "source": [
    "# Using logical operator 'and' in condition statement\n",
    "\n",
    "game_release = 1995\n",
    "\n",
    "if(game_release >= 1990) and (game_release <= 1999):\n",
    "    print(\"This retro title was released in the 90's\")\n",
    "    \n",
    "print(\"\")\n",
    "print(\"Enjoy playing the game!\")"
   ]
  },
  {
   "cell_type": "code",
   "execution_count": 37,
   "metadata": {},
   "outputs": [
    {
     "name": "stdout",
     "output_type": "stream",
     "text": [
      "This retro title was released in the 90's\n",
      "\n",
      "Enjoy playing the game!\n"
     ]
    }
   ],
   "source": [
    "# Using logical operator 'or' in condition statement\n",
    "\n",
    "if(game_release < 1990) or (game_release > 1999):\n",
    "    print(\"This isn't a title released in the 90's\")\n",
    "else:\n",
    "    print(\"This retro title was released in the 90's\")\n",
    "    \n",
    "print(\"\")\n",
    "print(\"Enjoy playing the game!\")"
   ]
  },
  {
   "cell_type": "code",
   "execution_count": 45,
   "metadata": {},
   "outputs": [
    {
     "name": "stdout",
     "output_type": "stream",
     "text": [
      "This game was not released in 1987\n",
      "\n",
      "Enjoy playing the game!\n"
     ]
    }
   ],
   "source": [
    "# Using the 'not' operator to check if statement is false\n",
    "\n",
    "game_release = 1988\n",
    "\n",
    "if not (game_release == 1987):\n",
    "    print(\"This game was not released in 1987\")\n",
    "else:\n",
    "    print(\"This game was released in 1987\")\n",
    "    \n",
    "print(\"\")\n",
    "print(\"Enjoy playing the game!\")"
   ]
  },
  {
   "cell_type": "code",
   "execution_count": 48,
   "metadata": {},
   "outputs": [
    {
     "name": "stdout",
     "output_type": "stream",
     "text": [
      "Album year is 1984\n",
      "etc.\n"
     ]
    }
   ],
   "source": [
    "# Corrected condition statement example\n",
    "    \n",
    "album_year = 1984\n",
    "    \n",
    "if not(album_year == 1984):\n",
    "    print(\"Album year is not 1984\")\n",
    "else:\n",
    "    print(\"Album year is 1984\")\n",
    "\n",
    "print(\"etc.\")"
   ]
  },
  {
   "cell_type": "markdown",
   "metadata": {},
   "source": [
    "### 3.1.1 Conditions and Branching Quiz"
   ]
  },
  {
   "cell_type": "code",
   "execution_count": 1,
   "metadata": {},
   "outputs": [
    {
     "name": "stdout",
     "output_type": "stream",
     "text": [
      "this is a\n"
     ]
    }
   ],
   "source": [
    "# What is the output of the following\n",
    "\n",
    "x = 'a'\n",
    "\n",
    "if(x != 'a'):\n",
    "\n",
    "    print(\"this is not a\")\n",
    "\n",
    "else:\n",
    "\n",
    "    print(\"this is a\")"
   ]
  },
  {
   "cell_type": "code",
   "execution_count": 2,
   "metadata": {},
   "outputs": [
    {
     "data": {
      "text/plain": [
       "True"
      ]
     },
     "execution_count": 2,
     "metadata": {},
     "output_type": "execute_result"
    }
   ],
   "source": [
    "# Find the value of i that produces a True\n",
    "\n",
    "i = 2\n",
    "i != 0"
   ]
  },
  {
   "cell_type": "code",
   "execution_count": 5,
   "metadata": {},
   "outputs": [
    {
     "name": "stdout",
     "output_type": "stream",
     "text": [
      "this is a\n"
     ]
    }
   ],
   "source": [
    "# Find the value of x that prints the statement: \"this is a\"\n",
    "\n",
    "x = 'a'\n",
    "if(x == 'a'):\n",
    "    print(\"this is a\")\n",
    "else:\n",
    "    print(\"this is  not a\")"
   ]
  },
  {
   "cell_type": "code",
   "execution_count": 6,
   "metadata": {},
   "outputs": [
    {
     "data": {
      "text/plain": [
       "True"
      ]
     },
     "execution_count": 6,
     "metadata": {},
     "output_type": "execute_result"
    }
   ],
   "source": [
    "# Find the value of y that produces a True statement\n",
    "\n",
    "y = 5\n",
    "x = 1\n",
    "x > 0 and y < 10"
   ]
  },
  {
   "cell_type": "code",
   "execution_count": 51,
   "metadata": {},
   "outputs": [
    {
     "name": "stdout",
     "output_type": "stream",
     "text": [
      "This album is amazing!\n",
      "etc.\n"
     ]
    }
   ],
   "source": [
    "# Write an if statement to determine if an album had a rating greater than 8. \n",
    "# Test it using the rating for the album “Back in Black” that had a rating of \n",
    "# 8.5. If the statement is true print \"This album is amazing!\"\n",
    "\n",
    "album_rating = 8.5\n",
    "\n",
    "if album_rating > 8:\n",
    "    print(\"This album is amazing!\")\n",
    "\n",
    "print(\"etc.\")"
   ]
  },
  {
   "cell_type": "code",
   "execution_count": 55,
   "metadata": {},
   "outputs": [
    {
     "name": "stdout",
     "output_type": "stream",
     "text": [
      "This album is amazing!\n",
      "etc.\n"
     ]
    }
   ],
   "source": [
    "# Write an if-else statement that performs the following: If the rating is \n",
    "# larger then eight print “this album is amazing”. If the rating is less than \n",
    "# or equal to 8 print “this album is ok”.\n",
    "\n",
    "album_rating = 8.5\n",
    "\n",
    "if album_rating > 8:\n",
    "    print(\"This album is amazing!\")\n",
    "else:\n",
    "    print(\"This album is ok\")\n",
    "    \n",
    "print(\"etc.\")"
   ]
  },
  {
   "cell_type": "code",
   "execution_count": 72,
   "metadata": {
    "scrolled": true
   },
   "outputs": [
    {
     "name": "stdout",
     "output_type": "stream",
     "text": [
      "This album was released in 1973\n"
     ]
    }
   ],
   "source": [
    "# Write an if statement to determine if an album came out before 1980 or in the\n",
    "# years: 1991 or 1993. If the condition is true print the album year\n",
    "\n",
    "album_release = 1973\n",
    "\n",
    "if (album_release < 1980) or (album_release == 1991) or \\\n",
    "(album_release == 1993):\n",
    "    print(\"This album was released in %d\" % album_release)\n",
    "else:\n",
    "    print(\"This album was not released before 1980, \"\n",
    "      \"nor in 1991 or 1993\")"
   ]
  },
  {
   "cell_type": "markdown",
   "metadata": {},
   "source": [
    "## 3.2 Loops"
   ]
  },
  {
   "cell_type": "markdown",
   "metadata": {},
   "source": [
    "### 3.2.1 Range"
   ]
  },
  {
   "cell_type": "markdown",
   "metadata": {},
   "source": [
    "When a range object is created, it generates ordered elements."
   ]
  },
  {
   "cell_type": "code",
   "execution_count": 1,
   "metadata": {},
   "outputs": [
    {
     "data": {
      "text/plain": [
       "range(0, 8)"
      ]
     },
     "execution_count": 1,
     "metadata": {},
     "output_type": "execute_result"
    }
   ],
   "source": [
    "# Generate a range object that contains elements ordered from\n",
    "# 0 to 7\n",
    "\n",
    "range(8)"
   ]
  },
  {
   "cell_type": "markdown",
   "metadata": {},
   "source": [
    "### 3.2.2 For Loop\n",
    "###### Enables a code block to be executed multiple times"
   ]
  },
  {
   "cell_type": "code",
   "execution_count": 3,
   "metadata": {},
   "outputs": [
    {
     "name": "stdout",
     "output_type": "stream",
     "text": [
      "0\n",
      "1\n",
      "2\n",
      "3\n",
      "4\n",
      "5\n",
      "6\n",
      "7\n"
     ]
    }
   ],
   "source": [
    "# Print a sequence of numbers from 0 to 7 using for loop\n",
    "\n",
    "for i in range(8):\n",
    "    print(i)"
   ]
  },
  {
   "cell_type": "code",
   "execution_count": 2,
   "metadata": {},
   "outputs": [
    {
     "name": "stdout",
     "output_type": "stream",
     "text": [
      "1982\n",
      "1980\n",
      "1973\n"
     ]
    }
   ],
   "source": [
    "# Use a for loop to print all the years contained in the list\n",
    "\n",
    "dates = [1982, 1980, 1973]\n",
    "N = len(dates)\n",
    "\n",
    "for i in range(N):\n",
    "    print(dates[i])"
   ]
  },
  {
   "cell_type": "code",
   "execution_count": 7,
   "metadata": {},
   "outputs": [
    {
     "name": "stdout",
     "output_type": "stream",
     "text": [
      "1982\n",
      "1980\n",
      "1973\n"
     ]
    }
   ],
   "source": [
    "# Using a variable 'year' in place of dates[i]\n",
    "\n",
    "for year in dates:\n",
    "    print(year)"
   ]
  },
  {
   "cell_type": "code",
   "execution_count": 3,
   "metadata": {},
   "outputs": [
    {
     "name": "stdout",
     "output_type": "stream",
     "text": [
      "Before Todd Howard, 0 is Cyberpunk 2077\n",
      "After Todd Howard, 0 is Skyrim\n",
      "Before Todd Howard, 1 is Ghost of Tsushima\n",
      "After Todd Howard, 1 is Skyrim\n",
      "Before Todd Howard, 2 is Final Fantasy VII Remake\n",
      "After Todd Howard, 2 is Skyrim\n",
      "Before Todd Howard, 3 is Assassin's Creed Valhalla\n",
      "After Todd Howard, 3 is Skyrim\n",
      "Before Todd Howard, 4 is The Last of Us Part II\n",
      "After Todd Howard, 4 is Skyrim\n"
     ]
    }
   ],
   "source": [
    "# Use for loop to change the elements in a list\n",
    "\n",
    "games = ['Cyberpunk 2077', \n",
    "         'Ghost of Tsushima', \n",
    "         'Final Fantasy VII Remake', \n",
    "         \"Assassin's Creed Valhalla\", \n",
    "         'The Last of Us Part II'\n",
    "        ]\n",
    "\n",
    "for i in range(0, 5):\n",
    "    print(\"Before Todd Howard,\", i, \"is\", games[i])\n",
    "    games[i] = 'Skyrim'\n",
    "    print(\"After Todd Howard,\", i, \"is\", games[i])"
   ]
  },
  {
   "cell_type": "code",
   "execution_count": 5,
   "metadata": {},
   "outputs": [
    {
     "name": "stdout",
     "output_type": "stream",
     "text": [
      "0 Skyrim\n",
      "1 Skyrim\n",
      "2 Skyrim\n",
      "3 Skyrim\n",
      "4 Skyrim\n"
     ]
    }
   ],
   "source": [
    "# Access the index and elements of a list using loops\n",
    "\n",
    "for i, games in enumerate(games):\n",
    "    print(i, games)"
   ]
  },
  {
   "cell_type": "markdown",
   "metadata": {},
   "source": [
    "### 3.2.3 While Loop"
   ]
  },
  {
   "cell_type": "markdown",
   "metadata": {},
   "source": [
    "A while loop is a tool for repeated execution of a block of code based on a condition. \n",
    "\n",
    "The code block will keep being executed until the given logical condition returns a False boolean value."
   ]
  },
  {
   "cell_type": "code",
   "execution_count": 6,
   "metadata": {},
   "outputs": [
    {
     "name": "stdout",
     "output_type": "stream",
     "text": [
      "1997\n",
      "1999\n",
      "2001\n",
      "2005\n",
      "2012\n",
      "2020\n",
      "It took 6 repetitions to end this loop.\n"
     ]
    }
   ],
   "source": [
    "# Iterate through list 'dates' and stop at the year 2020, then print the \n",
    "# number of iterations\n",
    "\n",
    "dates = [1997, 1999, 2001, 2005, 2012, 2020, 2054, 2077]\n",
    "\n",
    "i = 0\n",
    "year = 0\n",
    "\n",
    "while(year != 2020):\n",
    "    year = dates[i]\n",
    "    i = i + 1\n",
    "    print(year)\n",
    "    \n",
    "print(\"It took\", i, \"repetitions to end this loop.\")"
   ]
  },
  {
   "cell_type": "markdown",
   "metadata": {},
   "source": [
    "### 3.2.4 Loops Quiz"
   ]
  },
  {
   "cell_type": "code",
   "execution_count": 11,
   "metadata": {},
   "outputs": [
    {
     "name": "stdout",
     "output_type": "stream",
     "text": [
      "-5\n",
      "-4\n",
      "-3\n",
      "-2\n",
      "-1\n",
      "0\n",
      "1\n",
      "2\n",
      "3\n",
      "4\n",
      "5\n"
     ]
    }
   ],
   "source": [
    "# Write a for loop that prints out all elements between -5 and 5 using the \n",
    "# range function\n",
    "\n",
    "for i in range(-5, 6):\n",
    "    print(i)"
   ]
  },
  {
   "cell_type": "code",
   "execution_count": 74,
   "metadata": {},
   "outputs": [
    {
     "name": "stdout",
     "output_type": "stream",
     "text": [
      "3\n",
      "4\n",
      "5\n"
     ]
    }
   ],
   "source": [
    "# Use loops to print out the elements in the list A\n",
    "\n",
    "A = [3, 4, 5]\n",
    "\n",
    "for i in A:\n",
    "    print(i)"
   ]
  },
  {
   "cell_type": "code",
   "execution_count": 13,
   "metadata": {},
   "outputs": [
    {
     "name": "stdout",
     "output_type": "stream",
     "text": [
      "rock\n",
      "R&B\n",
      "Soundtrack\n",
      "R&B\n",
      "soul\n",
      "pop\n"
     ]
    }
   ],
   "source": [
    "# Print the elements of the following list\n",
    "\n",
    "genres = ['rock', 'R&B', 'Soundtrack', 'R&B', 'soul', 'pop']\n",
    "\n",
    "for genre in genres: \n",
    "    print(genre)"
   ]
  },
  {
   "cell_type": "code",
   "execution_count": 75,
   "metadata": {},
   "outputs": [
    {
     "name": "stdout",
     "output_type": "stream",
     "text": [
      "1\n",
      "2\n",
      "3\n",
      "4\n",
      "5\n",
      "6\n",
      "7\n",
      "8\n",
      "9\n",
      "10\n"
     ]
    }
   ],
   "source": [
    "# Find the value of x that will print out the sequence 1,2,..,10\n",
    "\n",
    "x = 11\n",
    "y = 1\n",
    "while(y != x):\n",
    "    print(y)\n",
    "    y = y + 1"
   ]
  },
  {
   "cell_type": "code",
   "execution_count": 76,
   "metadata": {},
   "outputs": [
    {
     "name": "stdout",
     "output_type": "stream",
     "text": [
      "3\n",
      "4\n",
      "5\n"
     ]
    }
   ],
   "source": [
    "# What is the output of the following lines of code?\n",
    "\n",
    "A = [3, 4, 5]\n",
    "\n",
    "for a in A:\n",
    "\n",
    "    print(a)"
   ]
  },
  {
   "cell_type": "code",
   "execution_count": 77,
   "metadata": {},
   "outputs": [
    {
     "name": "stdout",
     "output_type": "stream",
     "text": [
      "1\n",
      "2\n"
     ]
    }
   ],
   "source": [
    "# What is the output of the following lines of code?\n",
    "\n",
    "x = 3\n",
    "y = 1\n",
    "\n",
    "while(y != x):\n",
    "    print(y)\n",
    "    y = y + 1"
   ]
  },
  {
   "cell_type": "code",
   "execution_count": 14,
   "metadata": {},
   "outputs": [
    {
     "name": "stdout",
     "output_type": "stream",
     "text": [
      "red\n",
      "yellow\n",
      "green\n",
      "purple\n",
      "blue\n"
     ]
    }
   ],
   "source": [
    "# Write a for loop that prints the following list\n",
    "\n",
    "squares = ['red', 'yellow', 'green', 'purple', 'blue']\n",
    "\n",
    "for colour in squares:\n",
    "    print(colour)"
   ]
  },
  {
   "cell_type": "code",
   "execution_count": 27,
   "metadata": {},
   "outputs": [
    {
     "name": "stdout",
     "output_type": "stream",
     "text": [
      "10\n",
      "9.5\n",
      "10\n",
      "8\n",
      "7.5\n",
      "5\n"
     ]
    }
   ],
   "source": [
    "# Write a while loop to display the values of the list 'play_list_ratings' \n",
    "# which stores album ratings. If the score is less than 6, exit the loop\n",
    "\n",
    "play_list_ratings = [10, 9.5, 10, 8, 7.5, 5, 10, 10]\n",
    "\n",
    "i = 0\n",
    "album_rating = play_list_ratings[0]\n",
    "\n",
    "while(album_rating > 6):\n",
    "    album_rating = play_list_ratings[i]\n",
    "    i = i + 1\n",
    "    print(album_rating)\n",
    "    "
   ]
  },
  {
   "cell_type": "code",
   "execution_count": 30,
   "metadata": {},
   "outputs": [
    {
     "name": "stdout",
     "output_type": "stream",
     "text": [
      "['orange', 'orange']\n"
     ]
    }
   ],
   "source": [
    "# Write a while loop to copy the strings 'orange' of the list 'squares' to the\n",
    "# list 'new_squares'. Exit the loop if the value on the list is not 'orange'.\n",
    "\n",
    "squares = ['orange', 'orange', 'purple', 'blue', 'orange']\n",
    "new_squares = []\n",
    "\n",
    "i = 0\n",
    "\n",
    "while(squares[i] == 'orange'):\n",
    "    new_squares.append(squares[i])\n",
    "    i = i + 1\n",
    "    \n",
    "print(new_squares)"
   ]
  },
  {
   "cell_type": "markdown",
   "metadata": {},
   "source": [
    "# 3.3 Functions"
   ]
  },
  {
   "cell_type": "markdown",
   "metadata": {},
   "source": [
    "## 3.3.1 Function Basics"
   ]
  },
  {
   "cell_type": "markdown",
   "metadata": {},
   "source": [
    "A function is a reusable block of code which allows you to break down tasks and reuse code in different programs.\n",
    "\n",
    "They can be pre-defined (inbuilt in Python) or user-defined.\n",
    "\n",
    "You can save your function and use it in other programs, or use someone else's function."
   ]
  },
  {
   "cell_type": "code",
   "execution_count": 32,
   "metadata": {},
   "outputs": [],
   "source": [
    "# Define a function that will add 1 to a and store it as b\n",
    "\n",
    "def add(a):\n",
    "    \"\"\"Add 1 to a and return as b\"\"\"\n",
    "    b = a + 1\n",
    "    print(a, \"plus one is\", b)\n",
    "    return(b)"
   ]
  },
  {
   "cell_type": "code",
   "execution_count": 33,
   "metadata": {},
   "outputs": [
    {
     "name": "stdout",
     "output_type": "stream",
     "text": [
      "Help on function add in module __main__:\n",
      "\n",
      "add(a)\n",
      "\n"
     ]
    }
   ],
   "source": [
    "# Get help on the add function\n",
    "\n",
    "help(add)"
   ]
  },
  {
   "cell_type": "code",
   "execution_count": 35,
   "metadata": {},
   "outputs": [
    {
     "name": "stdout",
     "output_type": "stream",
     "text": [
      "75 plus one is 76\n"
     ]
    },
    {
     "data": {
      "text/plain": [
       "76"
      ]
     },
     "execution_count": 35,
     "metadata": {},
     "output_type": "execute_result"
    }
   ],
   "source": [
    "# Call the function add()\n",
    "\n",
    "add(75)"
   ]
  },
  {
   "cell_type": "code",
   "execution_count": 37,
   "metadata": {},
   "outputs": [],
   "source": [
    "# Define a function that multiplys two numbers\n",
    "\n",
    "def mult(a, b):\n",
    "    c = a * b\n",
    "    return(c)"
   ]
  },
  {
   "cell_type": "code",
   "execution_count": 38,
   "metadata": {},
   "outputs": [
    {
     "data": {
      "text/plain": [
       "304"
      ]
     },
     "execution_count": 38,
     "metadata": {},
     "output_type": "execute_result"
    }
   ],
   "source": [
    "# Use mult on two integers\n",
    "\n",
    "mult(4, 76)"
   ]
  },
  {
   "cell_type": "code",
   "execution_count": 40,
   "metadata": {},
   "outputs": [
    {
     "data": {
      "text/plain": [
       "58.379999999999995"
      ]
     },
     "execution_count": 40,
     "metadata": {},
     "output_type": "execute_result"
    }
   ],
   "source": [
    "# Use mult on two floats\n",
    "\n",
    "mult(5.56, 10.5)"
   ]
  },
  {
   "cell_type": "code",
   "execution_count": 43,
   "metadata": {},
   "outputs": [
    {
     "data": {
      "text/plain": [
       "'hahahahaha'"
      ]
     },
     "execution_count": 43,
     "metadata": {},
     "output_type": "execute_result"
    }
   ],
   "source": [
    "# Use mult on two different types of value\n",
    "\n",
    "mult(5, 'ha')"
   ]
  },
  {
   "cell_type": "markdown",
   "metadata": {},
   "source": [
    "### 3.3.1.1 Variables\n",
    "The input to a function is called a formal parameter.\n",
    "\n",
    "Local Variable: Declared inside a function. This parameter only exists within the function.\n",
    "\n",
    "Global Variable: Declared outside a function. Its value is accessible and modifiable throughout the program."
   ]
  },
  {
   "cell_type": "code",
   "execution_count": 47,
   "metadata": {},
   "outputs": [],
   "source": [
    "# Define a function which squares the global 'a' with the local variable 'b'\n",
    "\n",
    "def square(a):\n",
    "    \"\"\"Square input a and add 1.\"\"\"\n",
    "    b = 1\n",
    "    c = a*a + b\n",
    "    print(a, \"squared plus 1 is\", c)\n",
    "    return(c)"
   ]
  },
  {
   "cell_type": "code",
   "execution_count": 48,
   "metadata": {},
   "outputs": [
    {
     "name": "stdout",
     "output_type": "stream",
     "text": [
      "5 squared plus 1 is 26\n"
     ]
    },
    {
     "data": {
      "text/plain": [
       "26"
      ]
     },
     "execution_count": 48,
     "metadata": {},
     "output_type": "execute_result"
    }
   ],
   "source": [
    "# Define a global variable and call the square function with an input of 5\n",
    "\n",
    "x = 5\n",
    "y = square(x)\n",
    "y"
   ]
  },
  {
   "cell_type": "code",
   "execution_count": 49,
   "metadata": {},
   "outputs": [
    {
     "name": "stdout",
     "output_type": "stream",
     "text": [
      "77 squared plus 1 is 5930\n"
     ]
    },
    {
     "data": {
      "text/plain": [
       "5930"
      ]
     },
     "execution_count": 49,
     "metadata": {},
     "output_type": "execute_result"
    }
   ],
   "source": [
    "# Call the square function by entering a parameter directly\n",
    "\n",
    "square(77)"
   ]
  },
  {
   "cell_type": "markdown",
   "metadata": {},
   "source": [
    "### 3.3.1.2 Return Statement"
   ]
  },
  {
   "cell_type": "markdown",
   "metadata": {},
   "source": [
    "If there is no return statement, the function returns None. The following two functions are equivalent.\n",
    "\n",
    "Be consistent in return statements. Either all return statements in a function should return an expression, or none of them should. If any return statement returns an expression, any return statements where no value is returned should explicitly state this as return None, and an explicit return statement should be present at the end of the function (if reachable). (PEP 8)"
   ]
  },
  {
   "cell_type": "code",
   "execution_count": 54,
   "metadata": {},
   "outputs": [],
   "source": [
    "# Show that python treats these functions equally\n",
    "\n",
    "def bb8():\n",
    "    print('BB-8')\n",
    "    \n",
    "def bb8_2():\n",
    "    print('BB-8')\n",
    "    return None"
   ]
  },
  {
   "cell_type": "code",
   "execution_count": 55,
   "metadata": {},
   "outputs": [
    {
     "name": "stdout",
     "output_type": "stream",
     "text": [
      "BB-8\n",
      "BB-8\n"
     ]
    }
   ],
   "source": [
    "# Check the output of each function\n",
    "\n",
    "bb8()\n",
    "bb8_2()"
   ]
  },
  {
   "cell_type": "code",
   "execution_count": 56,
   "metadata": {},
   "outputs": [
    {
     "name": "stdout",
     "output_type": "stream",
     "text": [
      "BB-8\n",
      "None\n",
      "BB-8\n",
      "None\n"
     ]
    }
   ],
   "source": [
    "# Use print to reveal the return statement\n",
    "\n",
    "print(bb8())\n",
    "print(bb8_2())"
   ]
  },
  {
   "cell_type": "markdown",
   "metadata": {},
   "source": [
    "### 3.3.1.3 Functions Simplify Code"
   ]
  },
  {
   "cell_type": "markdown",
   "metadata": {},
   "source": [
    "The following two blocks of code can be combined into a single function. This can then be called whenever the same calculation is required."
   ]
  },
  {
   "cell_type": "code",
   "execution_count": 57,
   "metadata": {},
   "outputs": [
    {
     "data": {
      "text/plain": [
       "5"
      ]
     },
     "execution_count": 57,
     "metadata": {},
     "output_type": "execute_result"
    }
   ],
   "source": [
    "# Block 1 of a and b calculation\n",
    "\n",
    "a1 = 4\n",
    "b1 = 5\n",
    "c1 = a1 + b1 + 2*a1*b1 - 1\n",
    "if(c1 < 0):\n",
    "    c1 = 0 \n",
    "else:\n",
    "    c1 = 5\n",
    "c1"
   ]
  },
  {
   "cell_type": "code",
   "execution_count": 58,
   "metadata": {},
   "outputs": [
    {
     "data": {
      "text/plain": [
       "0"
      ]
     },
     "execution_count": 58,
     "metadata": {},
     "output_type": "execute_result"
    }
   ],
   "source": [
    "# Block 2 of a and b calculation\n",
    "\n",
    "a2 = 0\n",
    "b2 = 0\n",
    "c2 = a2 + b2 + 2*a2*b2 - 1\n",
    "if(c2 < 0):\n",
    "    c2 = 0 \n",
    "else:\n",
    "    c2 = 5\n",
    "c2"
   ]
  },
  {
   "cell_type": "code",
   "execution_count": 59,
   "metadata": {},
   "outputs": [],
   "source": [
    "# Combine blocks 1 and 2 into a single function\n",
    "\n",
    "def calc(a, b):\n",
    "    \"\"\"Return 0 if calculation result is below zero, otherwise\n",
    "    return 5.\n",
    "    \"\"\"\n",
    "    c = a + b + 2*a*b - 1\n",
    "    if(c < 0):\n",
    "        c = 0\n",
    "    else:\n",
    "        c = 5\n",
    "    return(c)"
   ]
  },
  {
   "cell_type": "code",
   "execution_count": 70,
   "metadata": {},
   "outputs": [
    {
     "name": "stdout",
     "output_type": "stream",
     "text": [
      "5\n",
      "0\n"
     ]
    }
   ],
   "source": [
    "# Check if function is working using inputs directly\n",
    "\n",
    "print(calc(4, 5))\n",
    "print(calc(0, 0))"
   ]
  },
  {
   "cell_type": "code",
   "execution_count": 63,
   "metadata": {},
   "outputs": [
    {
     "data": {
      "text/plain": [
       "5"
      ]
     },
     "execution_count": 63,
     "metadata": {},
     "output_type": "execute_result"
    }
   ],
   "source": [
    "# Replace block 1's code with simplified version\n",
    "\n",
    "a1 = 4\n",
    "b1 = 5\n",
    "c1 = calc(a1, b1)\n",
    "c1"
   ]
  },
  {
   "cell_type": "code",
   "execution_count": 64,
   "metadata": {},
   "outputs": [
    {
     "data": {
      "text/plain": [
       "0"
      ]
     },
     "execution_count": 64,
     "metadata": {},
     "output_type": "execute_result"
    }
   ],
   "source": [
    "# Replace block 2's code with simplified version\n",
    "\n",
    "a2 = 0\n",
    "b2 = 0\n",
    "c2 = calc(a2, b2)\n",
    "c2"
   ]
  },
  {
   "cell_type": "markdown",
   "metadata": {},
   "source": [
    "## 3.3.2 Pre-defined Functions"
   ]
  },
  {
   "cell_type": "code",
   "execution_count": 71,
   "metadata": {},
   "outputs": [
    {
     "name": "stdout",
     "output_type": "stream",
     "text": [
      "['Cyberpunk 2077', 'Ghost of Tsushima', 'Final Fantasy VII Remake', \"Assassin's Creed Valhalla\", 'The Last of Us Part II']\n"
     ]
    }
   ],
   "source": [
    "# We have already been using common pre-defined functions such as print()\n",
    "\n",
    "games = ['Cyberpunk 2077', \n",
    "         'Ghost of Tsushima', \n",
    "         'Final Fantasy VII Remake', \n",
    "         \"Assassin's Creed Valhalla\", \n",
    "         'The Last of Us Part II'\n",
    "        ]\n",
    "print(games)"
   ]
  },
  {
   "cell_type": "code",
   "execution_count": 72,
   "metadata": {},
   "outputs": [
    {
     "data": {
      "text/plain": [
       "70.0"
      ]
     },
     "execution_count": 72,
     "metadata": {},
     "output_type": "execute_result"
    }
   ],
   "source": [
    "# sum() to add all elements in a list or tuple\n",
    "\n",
    "play_list_ratings = [10, 9.5, 10, 8, 7.5, 5, 10, 10]\n",
    "sum(play_list_ratings)"
   ]
  },
  {
   "cell_type": "code",
   "execution_count": 73,
   "metadata": {},
   "outputs": [
    {
     "data": {
      "text/plain": [
       "5"
      ]
     },
     "execution_count": 73,
     "metadata": {},
     "output_type": "execute_result"
    }
   ],
   "source": [
    "# len() to show the length of an element\n",
    "\n",
    "len(games)"
   ]
  },
  {
   "cell_type": "markdown",
   "metadata": {},
   "source": [
    "## 3.3.3 Using if/else Statements and Loops in Functions"
   ]
  },
  {
   "cell_type": "code",
   "execution_count": 79,
   "metadata": {},
   "outputs": [
    {
     "name": "stdout",
     "output_type": "stream",
     "text": [
      "Cyberpunk 2077 2020\n",
      "Modern\n",
      "Super Mario Bros. 1985\n",
      "Retro\n"
     ]
    }
   ],
   "source": [
    "# Using return function with if/else statements in the function\n",
    "\n",
    "def game_type(title, year_released):\n",
    "    \"\"\"Determine if a game is modern or retro.\"\"\"\n",
    "    print(title, year_released)\n",
    "    if year_released > 2000:\n",
    "        return 'Modern'\n",
    "    else:\n",
    "        return 'Retro'\n",
    "\n",
    "x = game_type(\"Cyberpunk 2077\", 2020)\n",
    "print(x)\n",
    "\n",
    "y = game_type(\"Super Mario Bros.\", 1985)\n",
    "print(y)"
   ]
  },
  {
   "cell_type": "code",
   "execution_count": 80,
   "metadata": {},
   "outputs": [],
   "source": [
    "# Use a for loop to print each element in a list\n",
    "\n",
    "def print_list(the_list):\n",
    "    for element in the_list:\n",
    "        print(element)"
   ]
  },
  {
   "cell_type": "code",
   "execution_count": 81,
   "metadata": {},
   "outputs": [
    {
     "name": "stdout",
     "output_type": "stream",
     "text": [
      "3.4\n",
      "5.56\n",
      "9\n",
      "a word or two\n"
     ]
    }
   ],
   "source": [
    "# Implement the print_list function\n",
    "\n",
    "print_list([3.4, '5.56', 9, 'a word or two'])"
   ]
  },
  {
   "cell_type": "markdown",
   "metadata": {},
   "source": [
    "## 3.3.4 Setting Default Argument Values in User Functions"
   ]
  },
  {
   "cell_type": "code",
   "execution_count": 82,
   "metadata": {},
   "outputs": [],
   "source": [
    "# Setting a parameter with a default value\n",
    "\n",
    "def good_rating(rating = 4):\n",
    "    if(rating < 7):\n",
    "        print(\"This album is average, its rating is\", rating)\n",
    "    else:\n",
    "        print(\"This album is good, its rating is\", rating)"
   ]
  },
  {
   "cell_type": "code",
   "execution_count": 84,
   "metadata": {},
   "outputs": [
    {
     "name": "stdout",
     "output_type": "stream",
     "text": [
      "This album is average, its rating is 4\n",
      "This album is good, its rating is 10\n"
     ]
    }
   ],
   "source": [
    "# Test the default value, input an example\n",
    "\n",
    "good_rating()\n",
    "good_rating(10)"
   ]
  },
  {
   "cell_type": "markdown",
   "metadata": {},
   "source": [
    "## 3.3.5 Variable Scope "
   ]
  },
  {
   "cell_type": "markdown",
   "metadata": {},
   "source": [
    "Variables outside a function are called global variables, variables created inside a function are called local variables and do not persist outside the function."
   ]
  },
  {
   "cell_type": "code",
   "execution_count": 1,
   "metadata": {},
   "outputs": [
    {
     "ename": "NameError",
     "evalue": "name 'printer1' is not defined",
     "output_type": "error",
     "traceback": [
      "\u001b[1;31m---------------------------------------------------------------------------\u001b[0m",
      "\u001b[1;31mNameError\u001b[0m                                 Traceback (most recent call last)",
      "\u001b[1;32m<ipython-input-1-a4d6b7baaeb6>\u001b[0m in \u001b[0;36m<module>\u001b[1;34m\u001b[0m\n\u001b[0;32m      6\u001b[0m     \u001b[0mprint\u001b[0m\u001b[1;33m(\u001b[0m\u001b[0martist\u001b[0m\u001b[1;33m,\u001b[0m \u001b[1;34m\"is an artist.\"\u001b[0m\u001b[1;33m)\u001b[0m\u001b[1;33m\u001b[0m\u001b[1;33m\u001b[0m\u001b[0m\n\u001b[0;32m      7\u001b[0m \u001b[1;33m\u001b[0m\u001b[0m\n\u001b[1;32m----> 8\u001b[1;33m \u001b[0mprinter1\u001b[0m\u001b[1;33m(\u001b[0m\u001b[0martist\u001b[0m\u001b[1;33m)\u001b[0m\u001b[1;33m\u001b[0m\u001b[1;33m\u001b[0m\u001b[0m\n\u001b[0m",
      "\u001b[1;31mNameError\u001b[0m: name 'printer1' is not defined"
     ]
    }
   ],
   "source": [
    "# An example of a local variable. This function will return an error, as \n",
    "# internal_var is not a global variable and therefore is not defined globally\n",
    "\n",
    "artist = \"Billie Eilish\"\n",
    "def print1(artist):\n",
    "    internal_var = artist\n",
    "    print(artist, \"is an artist.\")\n",
    "    \n",
    "printer1(artist)"
   ]
  },
  {
   "cell_type": "code",
   "execution_count": 2,
   "metadata": {},
   "outputs": [
    {
     "name": "stdout",
     "output_type": "stream",
     "text": [
      "Billie Eilish is an artist.\n",
      "Cardi B is an artist.\n"
     ]
    }
   ],
   "source": [
    "# Create a global variable from within a function\n",
    "\n",
    "def printer(artist):\n",
    "    global internal_var\n",
    "    internal_var = \"Cardi B\"\n",
    "    print(artist, \"is an artist.\")\n",
    "    \n",
    "printer(artist)\n",
    "printer(internal_var)"
   ]
  },
  {
   "cell_type": "code",
   "execution_count": 5,
   "metadata": {},
   "outputs": [
    {
     "name": "stdout",
     "output_type": "stream",
     "text": [
      "Skyrim's rating is 10.0\n",
      "No Man's Sky's rating is 0.0\n",
      "My favourite game is Skyrim\n"
     ]
    }
   ],
   "source": [
    "# A global variable can be used inside a function\n",
    "\n",
    "fav_game = 'Skyrim'\n",
    "\n",
    "def get_rating(game):\n",
    "    if game == fav_game:\n",
    "        return 10.0\n",
    "    else:\n",
    "        return 0.0\n",
    "    \n",
    "print(\"Skyrim's rating is\", get_rating('Skyrim'))\n",
    "print(\"No Man's Sky's rating is\", get_rating(\"No Man's Sky\"))\n",
    "print(\"My favourite game is\", fav_game)"
   ]
  },
  {
   "cell_type": "code",
   "execution_count": 6,
   "metadata": {},
   "outputs": [
    {
     "name": "stdout",
     "output_type": "stream",
     "text": [
      "Skyrim's rating is 0.0\n",
      "No Man's Sky's rating is 10.0\n",
      "My favourite game is Skyrim\n"
     ]
    }
   ],
   "source": [
    "# A local variable is only defined within a function and will be used when a\n",
    "# function is called\n",
    "\n",
    "fav_game = 'Skyrim'\n",
    "\n",
    "def get_rating(game):\n",
    "    fav_game = \"No Man's Sky\"\n",
    "    if game == fav_game:\n",
    "        return 10.0\n",
    "    else:\n",
    "        return 0.0\n",
    "    \n",
    "print(\"Skyrim's rating is\", get_rating('Skyrim'))\n",
    "print(\"No Man's Sky's rating is\", get_rating(\"No Man's Sky\"))\n",
    "print(\"My favourite game is\", fav_game)"
   ]
  },
  {
   "cell_type": "markdown",
   "metadata": {},
   "source": [
    "## 3.3.6 Functions Quiz"
   ]
  },
  {
   "cell_type": "code",
   "execution_count": 7,
   "metadata": {},
   "outputs": [
    {
     "data": {
      "text/plain": [
       "11"
      ]
     },
     "execution_count": 7,
     "metadata": {},
     "output_type": "execute_result"
    }
   ],
   "source": [
    "# What is the value of c after the following code is run?\n",
    "a = 1\n",
    "\n",
    "def add(b):\n",
    "    return a + b\n",
    "\n",
    "c = add(10)\n",
    "c"
   ]
  },
  {
   "cell_type": "code",
   "execution_count": 1,
   "metadata": {},
   "outputs": [],
   "source": [
    "# Complete the function f so that it returns the product of a and b\n",
    "\n",
    "def f(a,b):\n",
    "    \n",
    "    return a * b"
   ]
  },
  {
   "cell_type": "code",
   "execution_count": 2,
   "metadata": {},
   "outputs": [
    {
     "name": "stdout",
     "output_type": "stream",
     "text": [
      "correct\n"
     ]
    }
   ],
   "source": [
    "# Test the function using this code\n",
    "\n",
    "a = 4\n",
    "b = 2\n",
    "\n",
    "if a * b == f(a, b):   \n",
    "    print(\"correct\")   \n",
    "else:    \n",
    "    print(\"incorrect\")"
   ]
  },
  {
   "cell_type": "code",
   "execution_count": 3,
   "metadata": {},
   "outputs": [],
   "source": [
    "# Complete the function g such that the input c is a list of integers and the \n",
    "# output is the sum of all the elements in the list.\n",
    "\n",
    "def g(c):\n",
    "\n",
    "    return sum(c)"
   ]
  },
  {
   "cell_type": "code",
   "execution_count": 6,
   "metadata": {},
   "outputs": [
    {
     "name": "stdout",
     "output_type": "stream",
     "text": [
      "correct\n"
     ]
    }
   ],
   "source": [
    "c = [1, 2, 3, 4, 5]\n",
    "\n",
    "if sum(c) == g(c):   \n",
    "    print(\"correct\")   \n",
    "else:    \n",
    "    print(\"incorrect\")"
   ]
  },
  {
   "cell_type": "code",
   "execution_count": 8,
   "metadata": {},
   "outputs": [
    {
     "data": {
      "text/plain": [
       "2.5"
      ]
     },
     "execution_count": 8,
     "metadata": {},
     "output_type": "execute_result"
    }
   ],
   "source": [
    "# Create a function that divides the first input by the second input\n",
    "\n",
    "def div(a, b):\n",
    "    c = a / b\n",
    "    return(c)\n",
    "\n",
    "div(5, 2)"
   ]
  },
  {
   "cell_type": "code",
   "execution_count": 10,
   "metadata": {},
   "outputs": [
    {
     "data": {
      "text/plain": [
       "5.0"
      ]
     },
     "execution_count": 10,
     "metadata": {},
     "output_type": "execute_result"
    }
   ],
   "source": [
    "# Create a function that divides the first input by the second input\n",
    "\n",
    "def div(d, e):\n",
    "    return(d / e)\n",
    "\n",
    "div(10, 2)"
   ]
  },
  {
   "cell_type": "code",
   "execution_count": 11,
   "metadata": {},
   "outputs": [],
   "source": [
    "# Use this function 'con' for the following question\n",
    "\n",
    "def con(a, b):\n",
    "    return(a + b)"
   ]
  },
  {
   "cell_type": "code",
   "execution_count": 14,
   "metadata": {},
   "outputs": [
    {
     "name": "stdout",
     "output_type": "stream",
     "text": [
      "15\n",
      "Hello there\n"
     ]
    }
   ],
   "source": [
    "# Can the con function above be used to add two integers or strings?  Yes.\n",
    "\n",
    "print(con(5, 10))\n",
    "print(con('Hello ', 'there'))"
   ]
  },
  {
   "cell_type": "code",
   "execution_count": 15,
   "metadata": {},
   "outputs": [
    {
     "data": {
      "text/plain": [
       "[4, 'hello', 6.6, 2, 'there', 9, 2]"
      ]
     },
     "execution_count": 15,
     "metadata": {},
     "output_type": "execute_result"
    }
   ],
   "source": [
    "# Can the con function be used to concatenate a list?  Yes.\n",
    "\n",
    "this_list = [4, 'hello', 6.6, 2]\n",
    "that_list = ['there', 9, 2]\n",
    "\n",
    "con(this_list, that_list)"
   ]
  },
  {
   "cell_type": "code",
   "execution_count": 16,
   "metadata": {},
   "outputs": [
    {
     "data": {
      "text/plain": [
       "(4, 'hello', 6.6, 2, 'there', 9, 2)"
      ]
     },
     "execution_count": 16,
     "metadata": {},
     "output_type": "execute_result"
    }
   ],
   "source": [
    "# Can the con function be used to concatenate a tuple?  Yes.\n",
    "\n",
    "this_tuple = (4, 'hello', 6.6, 2)\n",
    "that_tuple = ('there', 9, 2)\n",
    "\n",
    "con(this_tuple, that_tuple)"
   ]
  },
  {
   "cell_type": "markdown",
   "metadata": {},
   "source": [
    "## 3.4 Objects and Classes"
   ]
  },
  {
   "cell_type": "markdown",
   "metadata": {},
   "source": [
    "A class is a blueprint we can use to create objects. We can create a class by defining all attributes that will be used to create the final object. Each attribute is a variable that can be assigned to create different objects.\n",
    "\n",
    "An instance of an object is the realization of a class. Each object has different attributes.\n",
    "\n",
    "Methods can be defined within a class. They are functions which give you a way to change or interact with the object."
   ]
  },
  {
   "cell_type": "markdown",
   "metadata": {},
   "source": [
    "### 3.4.1 Create a Circle Class and Instances"
   ]
  },
  {
   "cell_type": "markdown",
   "metadata": {},
   "source": [
    "The keyword <code>class</code> is used to begin creating a class. The class parent is added as the argument (in this course 'object' will always be used).\n",
    "\n",
    "A special method called a constructor, <code>&#95;&#95;init&#95;&#95;</code>, is used to initialize the object. Data attributes are assigned in the input. The term self contains all attributes in the set. We can also create methods and parameters when creating a class.\n",
    "\n",
    "Class names should normally use the CapWords convention. Builtin names have a different convention, most are single words or two words run together, with CapWords used only for exception names and builtin constants. (PEP 8)"
   ]
  },
  {
   "cell_type": "code",
   "execution_count": 30,
   "metadata": {},
   "outputs": [],
   "source": [
    "# Import a library to allow objects to be drawn\n",
    "\n",
    "import matplotlib.pyplot as plt\n",
    "%matplotlib inline"
   ]
  },
  {
   "cell_type": "code",
   "execution_count": 52,
   "metadata": {},
   "outputs": [],
   "source": [
    "# Create a class named Circle, and define associated attributes and methods\n",
    "\n",
    "class Circle(object):\n",
    "    \"\"\"Assign default attributes of circle object\"\"\"\n",
    "    def __init__(self, radius = 3, color = 'blue'):\n",
    "        self.radius = radius\n",
    "        self.color = color\n",
    "        \n",
    "    \"\"\"Add the variable r to radius\"\"\"\n",
    "    def add_radius(self, r):\n",
    "        self.radius = self.radius + r\n",
    "        return(self.radius)\n",
    "    \n",
    "    \"\"\"Plot a circle\"\"\"\n",
    "    def draw_circle(self):\n",
    "        plt.gca().add_patch(plt.Circle((0, 0), radius = self.radius, \n",
    "                                       fc = self.color))\n",
    "        plt.axis('scaled')\n",
    "        plt.show()"
   ]
  },
  {
   "cell_type": "code",
   "execution_count": 85,
   "metadata": {},
   "outputs": [],
   "source": [
    "# Create a new instance red_circle using the class 'Circle' defined above\n",
    "\n",
    "red_circle = Circle(10, 'red')"
   ]
  },
  {
   "cell_type": "code",
   "execution_count": 54,
   "metadata": {},
   "outputs": [
    {
     "data": {
      "text/plain": [
       "['__class__',\n",
       " '__delattr__',\n",
       " '__dict__',\n",
       " '__dir__',\n",
       " '__doc__',\n",
       " '__eq__',\n",
       " '__format__',\n",
       " '__ge__',\n",
       " '__getattribute__',\n",
       " '__gt__',\n",
       " '__hash__',\n",
       " '__init__',\n",
       " '__init_subclass__',\n",
       " '__le__',\n",
       " '__lt__',\n",
       " '__module__',\n",
       " '__ne__',\n",
       " '__new__',\n",
       " '__reduce__',\n",
       " '__reduce_ex__',\n",
       " '__repr__',\n",
       " '__setattr__',\n",
       " '__sizeof__',\n",
       " '__str__',\n",
       " '__subclasshook__',\n",
       " '__weakref__',\n",
       " 'add_radius',\n",
       " 'color',\n",
       " 'draw_circle',\n",
       " 'radius']"
      ]
     },
     "execution_count": 54,
     "metadata": {},
     "output_type": "execute_result"
    }
   ],
   "source": [
    "# Use the 'dir' command to get a list of the object's methods\n",
    "\n",
    "dir(red_circle)"
   ]
  },
  {
   "cell_type": "code",
   "execution_count": 86,
   "metadata": {},
   "outputs": [
    {
     "name": "stdout",
     "output_type": "stream",
     "text": [
      "The circle has a radius of: 10\n",
      "The colour of the circle is: red\n"
     ]
    }
   ],
   "source": [
    "# Print the object attributes\n",
    "\n",
    "print(\"The circle has a radius of:\", red_circle.radius)\n",
    "print(\"The colour of the circle is:\", red_circle.color)"
   ]
  },
  {
   "cell_type": "code",
   "execution_count": 57,
   "metadata": {},
   "outputs": [
    {
     "data": {
      "text/plain": [
       "1"
      ]
     },
     "execution_count": 57,
     "metadata": {},
     "output_type": "execute_result"
    }
   ],
   "source": [
    "# Change the object's attribute radius\n",
    "\n",
    "red_circle.radius = 1\n",
    "red_circle.radius"
   ]
  },
  {
   "cell_type": "code",
   "execution_count": 58,
   "metadata": {},
   "outputs": [
    {
     "data": {
      "image/png": "[encoded data removed]",
      "text/plain": [
       "<Figure size 432x288 with 1 Axes>"
      ]
     },
     "metadata": {
      "needs_background": "light"
     },
     "output_type": "display_data"
    }
   ],
   "source": [
    "# Call the method draw_circle() to plot the object visually\n",
    "\n",
    "red_circle.draw_circle()"
   ]
  },
  {
   "cell_type": "code",
   "execution_count": 59,
   "metadata": {},
   "outputs": [
    {
     "name": "stdout",
     "output_type": "stream",
     "text": [
      "Initial radius of circle: 1\n",
      "Radius of circle after applying add_radius(2): 3\n",
      "Radius of circle after applying add_radius(5): 8\n"
     ]
    }
   ],
   "source": [
    "# Increase the radius of the circle using the method add_radius()\n",
    "\n",
    "print('Initial radius of circle:', red_circle.radius)\n",
    "red_circle.add_radius(2)\n",
    "\n",
    "print('Radius of circle after applying add_radius(2):', red_circle.radius)\n",
    "red_circle.add_radius(5)\n",
    "\n",
    "print('Radius of circle after applying add_radius(5):', red_circle.radius)"
   ]
  },
  {
   "cell_type": "code",
   "execution_count": 60,
   "metadata": {},
   "outputs": [],
   "source": [
    "# Create a new object, a blue circle with a radius of 100.  Since the default\n",
    "# color attribute in the class is blue, it does not need to be specified\n",
    "\n",
    "blue_circle = Circle(radius = 100)"
   ]
  },
  {
   "cell_type": "code",
   "execution_count": 75,
   "metadata": {},
   "outputs": [
    {
     "name": "stdout",
     "output_type": "stream",
     "text": [
      "The circle has a radius of: 100\n",
      "The colour of the circle is: blue\n"
     ]
    }
   ],
   "source": [
    "# Print the object attributes\n",
    "\n",
    "print(\"The circle has a radius of:\", blue_circle.radius)\n",
    "print(\"The colour of the circle is:\", blue_circle.color)"
   ]
  },
  {
   "cell_type": "code",
   "execution_count": 63,
   "metadata": {},
   "outputs": [
    {
     "data": {
      "image/png": "[encoded data removed]",
      "text/plain": [
       "<Figure size 432x288 with 1 Axes>"
      ]
     },
     "metadata": {
      "needs_background": "light"
     },
     "output_type": "display_data"
    }
   ],
   "source": [
    "# Plot the object using the method draw_circle()\n",
    "\n",
    "blue_circle.draw_circle()"
   ]
  },
  {
   "cell_type": "markdown",
   "metadata": {},
   "source": [
    "### 3.4.2 Create a Rectangle Class and Instances"
   ]
  },
  {
   "cell_type": "code",
   "execution_count": 64,
   "metadata": {},
   "outputs": [],
   "source": [
    "# Create a new class for creating a rectangle\n",
    "\n",
    "class Rectangle(object):\n",
    "    \"\"\"Assign default attributes of rectangle object\"\"\"\n",
    "    def __init__(self, width = 2, height = 3, color = 'r'):\n",
    "        self.width = width\n",
    "        self.height = height\n",
    "        self.color = color\n",
    "        \n",
    "    \"\"\"Plot a rectangle object\"\"\"\n",
    "    def draw_rectangle(self):\n",
    "        plt.gca().add_patch(plt.Rectangle((0, 0), self.width, self.height,\n",
    "                                          fc = self.color))\n",
    "        plt.axis('scaled')\n",
    "        plt.show()"
   ]
  },
  {
   "cell_type": "code",
   "execution_count": 68,
   "metadata": {},
   "outputs": [],
   "source": [
    "# Create a new instance named blue_rectangle\n",
    "\n",
    "blue_rectangle = Rectangle(2, 10, 'blue')"
   ]
  },
  {
   "cell_type": "code",
   "execution_count": 76,
   "metadata": {},
   "outputs": [
    {
     "name": "stdout",
     "output_type": "stream",
     "text": [
      "The width of the rectangle is: 2\n",
      "The height of the rectangle is: 10\n",
      "The colour of the rectangle is: blue\n"
     ]
    }
   ],
   "source": [
    "# Print the attributes of the blue_rectangle\n",
    "\n",
    "print(\"The width of the rectangle is:\", blue_rectangle.width)\n",
    "print(\"The height of the rectangle is:\", blue_rectangle.height)\n",
    "print(\"The colour of the rectangle is:\", blue_rectangle.color)"
   ]
  },
  {
   "cell_type": "code",
   "execution_count": 77,
   "metadata": {},
   "outputs": [
    {
     "data": {
      "image/png": "[encoded data removed]",
      "text/plain": [
       "<Figure size 432x288 with 1 Axes>"
      ]
     },
     "metadata": {
      "needs_background": "light"
     },
     "output_type": "display_data"
    }
   ],
   "source": [
    "# Plot the blue_rectangle\n",
    "\n",
    "blue_rectangle.draw_rectangle()"
   ]
  },
  {
   "cell_type": "code",
   "execution_count": 82,
   "metadata": {},
   "outputs": [],
   "source": [
    "# Create a new instance named yellow_rectangle\n",
    "\n",
    "yellow_rectangle = Rectangle(20, 7, 'yellow')"
   ]
  },
  {
   "cell_type": "code",
   "execution_count": 83,
   "metadata": {},
   "outputs": [
    {
     "name": "stdout",
     "output_type": "stream",
     "text": [
      "The width of the rectangle is: 20\n",
      "The height of the rectangle is: 7\n",
      "The colour of the rectangle is: yellow\n"
     ]
    }
   ],
   "source": [
    "# Print the attributes of the yellow_rectangle\n",
    "\n",
    "print(\"The width of the rectangle is:\", yellow_rectangle.width)\n",
    "print(\"The height of the rectangle is:\", yellow_rectangle.height)\n",
    "print(\"The colour of the rectangle is:\", yellow_rectangle.color)"
   ]
  },
  {
   "cell_type": "code",
   "execution_count": 84,
   "metadata": {},
   "outputs": [
    {
     "data": {
      "image/png": "[encoded data removed]",
      "text/plain": [
       "<Figure size 432x288 with 1 Axes>"
      ]
     },
     "metadata": {
      "needs_background": "light"
     },
     "output_type": "display_data"
    }
   ],
   "source": [
    "# Plot the yellow_rectangle\n",
    "\n",
    "yellow_rectangle.draw_rectangle()"
   ]
  },
  {
   "cell_type": "markdown",
   "metadata": {},
   "source": [
    "### 3.4.3 Objects and Classes Quiz"
   ]
  },
  {
   "cell_type": "code",
   "execution_count": 35,
   "metadata": {},
   "outputs": [],
   "source": [
    "# Use the following class 'Car' for the next exercises.\n",
    "\n",
    "class Car(object):\n",
    "    def __init__(self, make, model, color):\n",
    "        self.make = make\n",
    "        self.model = model\n",
    "        self.color = color\n",
    "        self.owner_number = 0\n",
    "        \n",
    "    def car_info(self):\n",
    "        print('Make:', self.make)\n",
    "        print('Model:', self.model)\n",
    "        print('Color:', self.color)\n",
    "        print('Number of owners:', self.owner_number)\n",
    "        \n",
    "    def sell(self):\n",
    "        self.owner_number = self.owner_number + 1"
   ]
  },
  {
   "cell_type": "code",
   "execution_count": 88,
   "metadata": {},
   "outputs": [],
   "source": [
    "# Create a Car object 'my_car' with the following data attributes:\n",
    "\n",
    "make = 'BMW'\n",
    "model = 'M3'\n",
    "color = 'red'\n",
    "\n",
    "my_car = Car('BMW', 'M3', 'red')"
   ]
  },
  {
   "cell_type": "code",
   "execution_count": 89,
   "metadata": {},
   "outputs": [
    {
     "name": "stdout",
     "output_type": "stream",
     "text": [
      "Make: BMW\n",
      "Model: M3\n",
      "Color: red\n",
      "Number of owners: 0\n"
     ]
    }
   ],
   "source": [
    "# Use the method car_info() to print the data attributes\n",
    "\n",
    "my_car.car_info()"
   ]
  },
  {
   "cell_type": "code",
   "execution_count": 38,
   "metadata": {},
   "outputs": [
    {
     "name": "stdout",
     "output_type": "stream",
     "text": [
      "Make: BMW\n",
      "Model: M3\n",
      "Color: red\n",
      "Number of owners: 5\n"
     ]
    }
   ],
   "source": [
    "# Call the method sell() in the following loop, then call car_info() again\n",
    "\n",
    "for i in range(5):\n",
    "    my_car.sell()\n",
    "    \n",
    "my_car.car_info()"
   ]
  },
  {
   "cell_type": "code",
   "execution_count": 87,
   "metadata": {},
   "outputs": [
    {
     "name": "stdout",
     "output_type": "stream",
     "text": [
      "Make: Honda\n",
      "Model: Accord\n",
      "Color: blue\n",
      "Number of owners: 0\n"
     ]
    }
   ],
   "source": [
    "# Create a car object with the following attributes:\n",
    "\n",
    "make = 'Honda'\n",
    "model = 'Accord'\n",
    "color = 'blue'\n",
    "\n",
    "my_car = Car('Honda', 'Accord', 'blue')\n",
    "# option 2 my_car = car(make = 'Honda', model = 'Accord', color = 'blue')\n",
    "# option 3 my_car = car(model = 'Accord', make = 'Honda', color = 'blue')\n",
    "\n",
    "my_car.car_info()"
   ]
  }
 ],
 "metadata": {
  "kernelspec": {
   "display_name": "Python 3",
   "language": "python",
   "name": "python3"
  },
  "language_info": {
   "codemirror_mode": {
    "name": "ipython",
    "version": 3
   },
   "file_extension": ".py",
   "mimetype": "text/x-python",
   "name": "python",
   "nbconvert_exporter": "python",
   "pygments_lexer": "ipython3",
   "version": "3.8.5"
  }
 },
 "nbformat": 4,
 "nbformat_minor": 4
}
