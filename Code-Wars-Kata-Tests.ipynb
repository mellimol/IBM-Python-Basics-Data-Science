{
 "cells": [
  {
   "cell_type": "markdown",
   "metadata": {},
   "source": [
    "# Code Wars Kata Tests"
   ]
  },
  {
   "cell_type": "markdown",
   "metadata": {},
   "source": [
    "## 1. Jaden Case"
   ]
  },
  {
   "cell_type": "markdown",
   "metadata": {},
   "source": [
    "Jaden Smith, the son of Will Smith, is the star of films such as The Karate Kid (2010) and After Earth (2013). Jaden is also known for some of his philosophy that he delivers via Twitter. When writing on Twitter, he is known for almost always capitalizing every word. For simplicity, you'll have to capitalize each word, check out how contractions are expected to be in the example below.\n",
    "\n",
    "Your task is to convert strings to how they would be written by Jaden Smith. The strings are actual quotes from Jaden Smith, but they are not capitalized in the same way he originally typed them.\n",
    "\n",
    "Example:\n",
    "\n",
    "Not Jaden-Cased: \"How can mirrors be real if our eyes aren't real\"\n",
    "\n",
    "Jaden-Cased:     \"How Can Mirrors Be Real If Our Eyes Aren't Real\"\n",
    "\n",
    "<a href=\"https://web.archive.org/web/20190624190255/https://twitter.com/officialjaden\">Link</a> to Jaden's former Twitter account @officialjaden via archive.org"
   ]
  },
  {
   "cell_type": "code",
   "execution_count": 12,
   "metadata": {},
   "outputs": [],
   "source": [
    "# Create a function which splits the string into list items, capitalize each element, then rejoins them into a single string\n",
    "\n",
    "def to_jaden_case(string):\n",
    "    old_list = string.split()\n",
    "    new_list = []\n",
    "    for element in old_list:\n",
    "        new_list.append(element.capitalize())\n",
    "    return \" \".join(new_list)"
   ]
  },
  {
   "cell_type": "code",
   "execution_count": 13,
   "metadata": {},
   "outputs": [
    {
     "data": {
      "text/plain": [
       "\"How Can Mirrors Be Real If Our Eyes Aren't Real\""
      ]
     },
     "execution_count": 13,
     "metadata": {},
     "output_type": "execute_result"
    }
   ],
   "source": [
    "# Test the function\n",
    "\n",
    "quote = \"How can mirrors be real if our eyes aren't real\"\n",
    "to_jaden_case(quote)"
   ]
  },
  {
   "cell_type": "code",
   "execution_count": 11,
   "metadata": {},
   "outputs": [
    {
     "data": {
      "text/plain": [
       "\"How Can Mirrors Be Real If Our Eyes Aren't Real\""
      ]
     },
     "execution_count": 11,
     "metadata": {},
     "output_type": "execute_result"
    }
   ],
   "source": [
    "# Example taken from site\n",
    "\n",
    "def toJadenCase1(string):        \n",
    "    return \" \".join(w.capitalize() for w in string.split())\n",
    "\n",
    "quote = \"How can mirrors be real if our eyes aren't real\"\n",
    "toJadenCase1(quote)"
   ]
  },
  {
   "cell_type": "code",
   "execution_count": 10,
   "metadata": {},
   "outputs": [
    {
     "data": {
      "text/plain": [
       "\"How Can Mirrors Be Real If Our Eyes Aren't Real\""
      ]
     },
     "execution_count": 10,
     "metadata": {},
     "output_type": "execute_result"
    }
   ],
   "source": [
    "# Example 2\n",
    "\n",
    "import string\n",
    "\n",
    "def toJadenCase2(NonJadenStrings):\n",
    "    return string.capwords(NonJadenStrings)\n",
    "\n",
    "quote = \"How can mirrors be real if our eyes aren't real\"\n",
    "toJadenCase2(quote)"
   ]
  },
  {
   "cell_type": "code",
   "execution_count": 9,
   "metadata": {},
   "outputs": [
    {
     "data": {
      "text/plain": [
       "\"How Can Mirrors Be Real If Our Eyes Aren't Real\""
      ]
     },
     "execution_count": 9,
     "metadata": {},
     "output_type": "execute_result"
    }
   ],
   "source": [
    "# Example 3\n",
    "\n",
    "from string import capwords as toJadenCase3\n",
    "\n",
    "quote = \"How can mirrors be real if our eyes aren't real\"\n",
    "toJadenCase3(quote)"
   ]
  },
  {
   "cell_type": "markdown",
   "metadata": {},
   "source": [
    "## 2. Duplicate Encoder"
   ]
  },
  {
   "cell_type": "markdown",
   "metadata": {},
   "source": [
    "The goal of this exercise is to convert a string to a new string where each character in the new string is \"(\" if that character appears only once in the original string, or \")\" if that character appears more than once in the original string. Ignore capitalization when determining if a character is a duplicate.\n",
    "\n",
    "Examples\n",
    "\n",
    "\"din\"      =>  \"(((\"\n",
    "\n",
    "\"recede\"   =>  \"()()()\"\n",
    "\n",
    "\"Success\"  =>  \")())())\"\n",
    "\n",
    "\"(( @\"     =>  \"))((\" \n",
    "\n",
    "Notes\n",
    "\n",
    "Assertion messages may be unclear about what they display in some languages. If you read \"...It Should encode XXX\", the \"XXX\" is the expected result, not the input!"
   ]
  },
  {
   "cell_type": "code",
   "execution_count": 101,
   "metadata": {},
   "outputs": [
    {
     "data": {
      "text/plain": [
       "')())())'"
      ]
     },
     "execution_count": 101,
     "metadata": {},
     "output_type": "execute_result"
    }
   ],
   "source": [
    "from collections import Counter\n",
    "\n",
    "def duplicate_encode(word):\n",
    "    word = word.lower()\n",
    "    input_string = Counter(word)\n",
    "    output_string = ''.join('(' if input_string[c] <= 1 else ')' for c in word)\n",
    "    return output_string\n",
    "\n",
    "duplicate_encode('Success')"
   ]
  },
  {
   "cell_type": "code",
   "execution_count": 96,
   "metadata": {},
   "outputs": [
    {
     "data": {
      "text/plain": [
       "')(()'"
      ]
     },
     "execution_count": 96,
     "metadata": {},
     "output_type": "execute_result"
    }
   ],
   "source": [
    "# Alternate version I created to understand process\n",
    "\n",
    "from collections import Counter\n",
    "\n",
    "def duplicate_encode(word):\n",
    "    word = word.lower()\n",
    "    input_string = Counter(word)\n",
    "    output_string= ''\n",
    "    for c in word:\n",
    "        if input_string[c] <= 1:\n",
    "            output_string += '('\n",
    "        else:\n",
    "            output_string += ')'\n",
    "    return output_string\n",
    "            \n",
    "duplicate_encode('Test')"
   ]
  },
  {
   "cell_type": "code",
   "execution_count": null,
   "metadata": {},
   "outputs": [],
   "source": [
    "# Example from site\n",
    "\n",
    "def duplicate_encode(word):\n",
    "    return \"\".join([\"(\" if word.lower().count(c) == 1 else \")\" for c in word.lower()])"
   ]
  },
  {
   "cell_type": "code",
   "execution_count": null,
   "metadata": {},
   "outputs": [],
   "source": [
    "# Example from site\n",
    "\n",
    "from collections import Counter\n",
    "\n",
    "def duplicate_encode(word):\n",
    "    word = word.lower()\n",
    "    counter = Counter(word)\n",
    "    return ''.join(('(' if counter[c] == 1 else ')') for c in word)"
   ]
  },
  {
   "cell_type": "markdown",
   "metadata": {},
   "source": [
    "## 3. Disemvowel Trolls "
   ]
  },
  {
   "cell_type": "markdown",
   "metadata": {},
   "source": [
    "Trolls are attacking your comment section!\n",
    "\n",
    "A common way to deal with this situation is to remove all of the vowels from the trolls' comments, neutralizing the threat.\n",
    "\n",
    "Your task is to write a function that takes a string and return a new string with all vowels removed.\n",
    "\n",
    "For example, the string \"This website is for losers LOL!\" would become \"Ths wbst s fr lsrs LL!\".\n",
    "\n",
    "Note: for this kata y isn't considered a vowel."
   ]
  },
  {
   "cell_type": "code",
   "execution_count": 80,
   "metadata": {
    "scrolled": true
   },
   "outputs": [],
   "source": [
    "def disemvowel(string):\n",
    "    vowels = \"AaEeIiOoUu\"\n",
    "    for c in vowels:\n",
    "        string = string.replace(c, '')\n",
    "    return string"
   ]
  },
  {
   "cell_type": "code",
   "execution_count": 81,
   "metadata": {},
   "outputs": [
    {
     "data": {
      "text/plain": [
       "'Ths wbst s fr lsrs LL!'"
      ]
     },
     "execution_count": 81,
     "metadata": {},
     "output_type": "execute_result"
    }
   ],
   "source": [
    "disemvowel(\"This website is for losers LOL!\")"
   ]
  },
  {
   "cell_type": "code",
   "execution_count": null,
   "metadata": {},
   "outputs": [],
   "source": [
    "# Example from website\n",
    "\n",
    "def disemvowel(s):\n",
    "    return s.translate(None, \"aeiouAEIOU\")"
   ]
  },
  {
   "cell_type": "code",
   "execution_count": null,
   "metadata": {},
   "outputs": [],
   "source": [
    "# Example\n",
    "\n",
    "def disemvowel(string):\n",
    "    return \"\".join(c for c in string if c.lower() not in \"aeiou\")"
   ]
  },
  {
   "cell_type": "markdown",
   "metadata": {},
   "source": [
    "## 4. Convert a Number to a String"
   ]
  },
  {
   "cell_type": "markdown",
   "metadata": {},
   "source": [
    "We need a function that can transform a number into a string.\n",
    "\n",
    "What ways of achieving this do you know?\n",
    "\n",
    "Examples:\n",
    "\n",
    "number_to_string(123) /* returns '123' */\n",
    "\n",
    "number_to_string(999) /* returns '999' */"
   ]
  },
  {
   "cell_type": "code",
   "execution_count": 84,
   "metadata": {},
   "outputs": [
    {
     "data": {
      "text/plain": [
       "'45'"
      ]
     },
     "execution_count": 84,
     "metadata": {},
     "output_type": "execute_result"
    }
   ],
   "source": [
    "def number_to_string(num):\n",
    "    return str(num)\n",
    "\n",
    "number_to_string(45)"
   ]
  },
  {
   "cell_type": "code",
   "execution_count": null,
   "metadata": {},
   "outputs": [],
   "source": [
    "# Example from site\n",
    "\n",
    "number_to_string = str"
   ]
  },
  {
   "cell_type": "markdown",
   "metadata": {},
   "source": [
    "## 5. Square Every Digit"
   ]
  },
  {
   "cell_type": "markdown",
   "metadata": {},
   "source": [
    "Welcome. In this kata, you are asked to square every digit of a number and concatenate them.\n",
    "\n",
    "For example, if we run 9119 through the function, 811181 will come out, because 9<sup>2</sup> is 81 and 1<sup>2</sup> is 1.\n",
    "\n",
    "Note: The function accepts an integer and returns an integer"
   ]
  },
  {
   "cell_type": "code",
   "execution_count": 259,
   "metadata": {},
   "outputs": [],
   "source": [
    "def square_digits(num):\n",
    "    num_list = [int(i) for i in str(num)] # Create a list containing each digit individually as an integer\n",
    "    sq_list = []\n",
    "    for i in num_list:\n",
    "        sq_list.append(i ** 2) # Square the integers \n",
    "        sq_str = [str(i) for i in sq_list] # Convert each list integer to a string\n",
    "        join_str = \"\".join(sq_str) # Now that they are strings, they can be concatenated\n",
    "    return int(join_str) # Change the concatenated strings to an integer"
   ]
  },
  {
   "cell_type": "code",
   "execution_count": 276,
   "metadata": {},
   "outputs": [],
   "source": [
    "# Trying to refactor code into more concise form\n",
    "\n",
    "def square_digits(num):\n",
    "    num_list = [int(i) for i in str(num)]\n",
    "    sq_list = []\n",
    "    for i in num_list:\n",
    "        sq_list.append(i ** 2) \n",
    "    return int(''.join([str(i) for i in sq_list]))"
   ]
  },
  {
   "cell_type": "code",
   "execution_count": 304,
   "metadata": {},
   "outputs": [],
   "source": [
    "# Trying to refactor code into even more concise form\n",
    "\n",
    "def square_digits(num):\n",
    "    sq_list = []\n",
    "    for i in [int(i) for i in str(num)]:\n",
    "        sq_list.append(i ** 2)\n",
    "    return int(''.join(str(i) for i in sq_list))"
   ]
  },
  {
   "cell_type": "code",
   "execution_count": 305,
   "metadata": {},
   "outputs": [
    {
     "data": {
      "text/plain": [
       "916"
      ]
     },
     "execution_count": 305,
     "metadata": {},
     "output_type": "execute_result"
    }
   ],
   "source": [
    "square_digits(34)"
   ]
  },
  {
   "cell_type": "code",
   "execution_count": 261,
   "metadata": {},
   "outputs": [],
   "source": [
    "# Example from site\n",
    "\n",
    "def square_digits(num):\n",
    "    ret = \"\"\n",
    "    for x in str(num):\n",
    "        ret += str(int(x)**2)\n",
    "    return int(ret)"
   ]
  },
  {
   "cell_type": "markdown",
   "metadata": {},
   "source": [
    "Learning points from above example:\n",
    "\n",
    "- <code>+=</code> assignment operator. <code>ret += str(int(x)\\*\\*2)</code> is the same as <code>ret = ret + str(int(x)\\*\\*2)</code>"
   ]
  },
  {
   "cell_type": "code",
   "execution_count": 270,
   "metadata": {},
   "outputs": [],
   "source": [
    "# Example from site\n",
    "\n",
    "def square_digits(num):\n",
    "    return int(''.join(str(int(d)**2) for d in str(num)))"
   ]
  },
  {
   "cell_type": "code",
   "execution_count": 271,
   "metadata": {},
   "outputs": [
    {
     "data": {
      "text/plain": [
       "916"
      ]
     },
     "execution_count": 271,
     "metadata": {},
     "output_type": "execute_result"
    }
   ],
   "source": [
    "square_digits(34)"
   ]
  },
  {
   "cell_type": "markdown",
   "metadata": {},
   "source": [
    "## 6. Regex Validate PIN Code"
   ]
  },
  {
   "cell_type": "markdown",
   "metadata": {},
   "source": [
    "ATM machines allow 4 or 6 digit PIN codes and PIN codes cannot contain anything but exactly 4 digits or exactly 6 digits.\n",
    "\n",
    "If the function is passed a valid PIN string, return true, else return false.\n",
    "\n",
    "Examples:\n",
    "\n",
    "\"1234\"   -->  true\n",
    "\n",
    "\"12345\"  -->  false\n",
    "\n",
    "\"a234\"   -->  false"
   ]
  },
  {
   "cell_type": "code",
   "execution_count": 403,
   "metadata": {},
   "outputs": [],
   "source": [
    "def validate_pin(pin):\n",
    "    if pin.isdigit() and (len(pin) == 4 or 6):\n",
    "        return True\n",
    "    else:\n",
    "        return False"
   ]
  },
  {
   "cell_type": "code",
   "execution_count": 412,
   "metadata": {},
   "outputs": [],
   "source": [
    "def validate_pin(pin):\n",
    "    if pin.isdigit() and len(pin) == 4:\n",
    "        return True\n",
    "    elif pin.isdigit() and len(pin) == 6:\n",
    "        return True\n",
    "    else:\n",
    "        return False"
   ]
  },
  {
   "cell_type": "code",
   "execution_count": null,
   "metadata": {},
   "outputs": [],
   "source": [
    "# Example from site\n",
    "\n",
    "def validate_pin(pin):\n",
    "    return len(pin) in (4, 6) and pin.isdigit()"
   ]
  },
  {
   "cell_type": "code",
   "execution_count": 417,
   "metadata": {
    "scrolled": true
   },
   "outputs": [
    {
     "ename": "TypeError",
     "evalue": "argument of type 'int' is not iterable",
     "output_type": "error",
     "traceback": [
      "\u001b[1;31m---------------------------------------------------------------------------\u001b[0m",
      "\u001b[1;31mTypeError\u001b[0m                                 Traceback (most recent call last)",
      "\u001b[1;32m<ipython-input-417-0ef133da6b07>\u001b[0m in \u001b[0;36m<module>\u001b[1;34m\u001b[0m\n\u001b[1;32m----> 1\u001b[1;33m \u001b[0mvalidate_pin\u001b[0m\u001b[1;33m(\u001b[0m\u001b[1;34m\"345344\"\u001b[0m\u001b[1;33m)\u001b[0m\u001b[1;33m\u001b[0m\u001b[1;33m\u001b[0m\u001b[0m\n\u001b[0m",
      "\u001b[1;32m<ipython-input-415-26dd0fbf41a4>\u001b[0m in \u001b[0;36mvalidate_pin\u001b[1;34m(pin)\u001b[0m\n\u001b[0;32m      1\u001b[0m \u001b[1;32mdef\u001b[0m \u001b[0mvalidate_pin\u001b[0m\u001b[1;33m(\u001b[0m\u001b[0mpin\u001b[0m\u001b[1;33m)\u001b[0m\u001b[1;33m:\u001b[0m\u001b[1;33m\u001b[0m\u001b[1;33m\u001b[0m\u001b[0m\n\u001b[1;32m----> 2\u001b[1;33m     \u001b[1;32mif\u001b[0m \u001b[0mpin\u001b[0m\u001b[1;33m.\u001b[0m\u001b[0misdigit\u001b[0m\u001b[1;33m(\u001b[0m\u001b[1;33m)\u001b[0m \u001b[1;32mand\u001b[0m \u001b[0mpin\u001b[0m \u001b[1;32min\u001b[0m \u001b[0mlen\u001b[0m\u001b[1;33m(\u001b[0m\u001b[0mpin\u001b[0m\u001b[1;33m)\u001b[0m \u001b[1;33m==\u001b[0m \u001b[1;33m(\u001b[0m\u001b[1;36m4\u001b[0m\u001b[1;33m,\u001b[0m \u001b[1;36m6\u001b[0m\u001b[1;33m)\u001b[0m\u001b[1;33m:\u001b[0m\u001b[1;33m\u001b[0m\u001b[1;33m\u001b[0m\u001b[0m\n\u001b[0m\u001b[0;32m      3\u001b[0m         \u001b[1;32mreturn\u001b[0m \u001b[1;32mTrue\u001b[0m\u001b[1;33m\u001b[0m\u001b[1;33m\u001b[0m\u001b[0m\n\u001b[0;32m      4\u001b[0m     \u001b[1;32melse\u001b[0m\u001b[1;33m:\u001b[0m\u001b[1;33m\u001b[0m\u001b[1;33m\u001b[0m\u001b[0m\n\u001b[0;32m      5\u001b[0m         \u001b[1;32mreturn\u001b[0m \u001b[1;32mFalse\u001b[0m\u001b[1;33m\u001b[0m\u001b[1;33m\u001b[0m\u001b[0m\n",
      "\u001b[1;31mTypeError\u001b[0m: argument of type 'int' is not iterable"
     ]
    }
   ],
   "source": [
    "validate_pin(\"345344\")"
   ]
  },
  {
   "cell_type": "code",
   "execution_count": null,
   "metadata": {},
   "outputs": [],
   "source": []
  }
 ],
 "metadata": {
  "kernelspec": {
   "display_name": "Python 3",
   "language": "python",
   "name": "python3"
  },
  "language_info": {
   "codemirror_mode": {
    "name": "ipython",
    "version": 3
   },
   "file_extension": ".py",
   "mimetype": "text/x-python",
   "name": "python",
   "nbconvert_exporter": "python",
   "pygments_lexer": "ipython3",
   "version": "3.8.5"
  }
 },
 "nbformat": 4,
 "nbformat_minor": 4
}
