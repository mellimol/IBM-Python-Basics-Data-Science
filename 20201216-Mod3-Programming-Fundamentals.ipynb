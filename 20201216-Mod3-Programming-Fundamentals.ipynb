{
 "cells": [
  {
   "cell_type": "markdown",
   "metadata": {},
   "source": [
    "# Module 3 - Programming Fundamentals"
   ]
  },
  {
   "cell_type": "markdown",
   "metadata": {},
   "source": [
    "## 3.1 Conditions and Branching"
   ]
  },
  {
   "cell_type": "markdown",
   "metadata": {},
   "source": [
    "### 3.1.1 Comparison Operators"
   ]
  },
  {
   "cell_type": "code",
   "execution_count": 2,
   "metadata": {},
   "outputs": [
    {
     "data": {
      "text/plain": [
       "False"
      ]
     },
     "execution_count": 2,
     "metadata": {},
     "output_type": "execute_result"
    }
   ],
   "source": [
    "# Determine if two values are equal\n",
    "\n",
    "fallout = 4\n",
    "fallout == 76"
   ]
  },
  {
   "cell_type": "code",
   "execution_count": 3,
   "metadata": {},
   "outputs": [
    {
     "data": {
      "text/plain": [
       "False"
      ]
     },
     "execution_count": 3,
     "metadata": {},
     "output_type": "execute_result"
    }
   ],
   "source": [
    "# Determine if one value is greater than another\n",
    "\n",
    "fallout > 76"
   ]
  },
  {
   "cell_type": "code",
   "execution_count": 4,
   "metadata": {},
   "outputs": [
    {
     "data": {
      "text/plain": [
       "True"
      ]
     },
     "execution_count": 4,
     "metadata": {},
     "output_type": "execute_result"
    }
   ],
   "source": [
    "# Determine if one value is greater than another\n",
    "\n",
    "fallout > 3"
   ]
  },
  {
   "cell_type": "code",
   "execution_count": 5,
   "metadata": {},
   "outputs": [
    {
     "data": {
      "text/plain": [
       "True"
      ]
     },
     "execution_count": 5,
     "metadata": {},
     "output_type": "execute_result"
    }
   ],
   "source": [
    "# Using the inequality expression to produce true\n",
    "\n",
    "fallout != 76"
   ]
  },
  {
   "cell_type": "code",
   "execution_count": 6,
   "metadata": {},
   "outputs": [
    {
     "data": {
      "text/plain": [
       "False"
      ]
     },
     "execution_count": 6,
     "metadata": {},
     "output_type": "execute_result"
    }
   ],
   "source": [
    "# Using the inequality expression to produce false\n",
    "\n",
    "fallout != 4"
   ]
  },
  {
   "cell_type": "code",
   "execution_count": 9,
   "metadata": {},
   "outputs": [
    {
     "data": {
      "text/plain": [
       "False"
      ]
     },
     "execution_count": 9,
     "metadata": {},
     "output_type": "execute_result"
    }
   ],
   "source": [
    "# Use the equality operator on a string\n",
    "\n",
    "'Star Wars' == 'Star Trek'"
   ]
  },
  {
   "cell_type": "code",
   "execution_count": 8,
   "metadata": {},
   "outputs": [
    {
     "data": {
      "text/plain": [
       "True"
      ]
     },
     "execution_count": 8,
     "metadata": {},
     "output_type": "execute_result"
    }
   ],
   "source": [
    "# Use the inequality operator on a string\n",
    "\n",
    "'Star Wars' != 'Star Trek'"
   ]
  },
  {
   "cell_type": "code",
   "execution_count": 10,
   "metadata": {},
   "outputs": [
    {
     "data": {
      "text/plain": [
       "True"
      ]
     },
     "execution_count": 10,
     "metadata": {},
     "output_type": "execute_result"
    }
   ],
   "source": [
    "# Value of letters and symbols are determined by ASCII value\n",
    "# First letter takes precedence\n",
    "\n",
    "'BA' > 'AB'"
   ]
  },
  {
   "cell_type": "markdown",
   "metadata": {},
   "source": [
    "### 3.1.2 Branching"
   ]
  },
  {
   "cell_type": "code",
   "execution_count": 23,
   "metadata": {},
   "outputs": [
    {
     "name": "stdout",
     "output_type": "stream",
     "text": [
      "You can have a beer or cocktail\n",
      "Then go home\n"
     ]
    }
   ],
   "source": [
    "# Using if statement\n",
    "\n",
    "# age = 17\n",
    "age = 20\n",
    "\n",
    "# Expression that can be true or false\n",
    "if age >= 18:\n",
    "    print(\"You can have a beer or cocktail\")\n",
    "print(\"Then go home\")"
   ]
  },
  {
   "cell_type": "code",
   "execution_count": 22,
   "metadata": {},
   "outputs": [
    {
     "name": "stdout",
     "output_type": "stream",
     "text": [
      "You can have a beer or cocktail\n",
      "Then go home\n"
     ]
    }
   ],
   "source": [
    "# Using the else statement\n",
    "\n",
    "if age >= 18:\n",
    "    print(\"You can have a beer or cocktail\")\n",
    "else:\n",
    "    print(\"You can have a mocktail or soda\")\n",
    "    \n",
    "print(\"Then go home\")"
   ]
  },
  {
   "cell_type": "code",
   "execution_count": 29,
   "metadata": {},
   "outputs": [
    {
     "name": "stdout",
     "output_type": "stream",
     "text": [
      "You can have milk or soda\n",
      "Then go home\n"
     ]
    }
   ],
   "source": [
    "# Using the elif statement\n",
    "\n",
    "age = 10\n",
    "\n",
    "if age >= 18:\n",
    "    print(\"You can have a beer or cocktail\")\n",
    "elif age < 15:\n",
    "    print(\"You can have milk or soda\")\n",
    "else:\n",
    "    print(\"You can have a mocktail or soda\")\n",
    "    \n",
    "print(\"Then go home\")"
   ]
  },
  {
   "cell_type": "code",
   "execution_count": 33,
   "metadata": {},
   "outputs": [
    {
     "name": "stdout",
     "output_type": "stream",
     "text": [
      "This title was released before the year 2000\n",
      "Enjoy playing the game!\n"
     ]
    }
   ],
   "source": [
    "# Retro game condition statement example\n",
    "\n",
    "game_release = 1999\n",
    "\n",
    "if game_release < 2000:\n",
    "    print(\"This retro title was released before the year 2000\")\n",
    "print(\"Enjoy playing the game!\")"
   ]
  },
  {
   "cell_type": "code",
   "execution_count": 35,
   "metadata": {},
   "outputs": [
    {
     "name": "stdout",
     "output_type": "stream",
     "text": [
      "This title was released after the year 2000\n",
      "Enjoy playing the game!\n"
     ]
    }
   ],
   "source": [
    "# Retro game condition statement example using else\n",
    "\n",
    "game_release = 2004\n",
    "\n",
    "if game_release < 2000:\n",
    "    print(\"This retro title was released before the year 2000\")\n",
    "else:\n",
    "    print(\"This title was released after the year 2000\")\n",
    "    \n",
    "print(\"Enjoy playing the game!\")"
   ]
  },
  {
   "cell_type": "markdown",
   "metadata": {},
   "source": [
    "### 3.1.3 Logical Operators\n",
    "###### Allow you to combine or modify conditions \n",
    "###### (check more than one condition at once)"
   ]
  },
  {
   "cell_type": "code",
   "execution_count": 36,
   "metadata": {},
   "outputs": [
    {
     "name": "stdout",
     "output_type": "stream",
     "text": [
      "This retro title was released in the 90's\n",
      "\n",
      "Enjoy playing the game!\n"
     ]
    }
   ],
   "source": [
    "# Using logical operator 'and' in condition statement\n",
    "\n",
    "game_release = 1995\n",
    "\n",
    "if(game_release >= 1990) and (game_release <= 1999):\n",
    "    print(\"This retro title was released in the 90's\")\n",
    "    \n",
    "print(\"\")\n",
    "print(\"Enjoy playing the game!\")"
   ]
  },
  {
   "cell_type": "code",
   "execution_count": 37,
   "metadata": {},
   "outputs": [
    {
     "name": "stdout",
     "output_type": "stream",
     "text": [
      "This retro title was released in the 90's\n",
      "\n",
      "Enjoy playing the game!\n"
     ]
    }
   ],
   "source": [
    "# Using logical operator 'or' in condition statement\n",
    "\n",
    "if(game_release < 1990) or (game_release > 1999):\n",
    "    print(\"This isn't a title released in the 90's\")\n",
    "else:\n",
    "    print(\"This retro title was released in the 90's\")\n",
    "    \n",
    "print(\"\")\n",
    "print(\"Enjoy playing the game!\")"
   ]
  },
  {
   "cell_type": "code",
   "execution_count": 45,
   "metadata": {},
   "outputs": [
    {
     "name": "stdout",
     "output_type": "stream",
     "text": [
      "This game was not released in 1987\n",
      "\n",
      "Enjoy playing the game!\n"
     ]
    }
   ],
   "source": [
    "# Using the 'not' operator to check if statement is false\n",
    "\n",
    "game_release = 1988\n",
    "\n",
    "if not (game_release == 1987):\n",
    "    print(\"This game was not released in 1987\")\n",
    "else:\n",
    "    print(\"This game was released in 1987\")\n",
    "    \n",
    "print(\"\")\n",
    "print(\"Enjoy playing the game!\")"
   ]
  },
  {
   "cell_type": "code",
   "execution_count": 48,
   "metadata": {},
   "outputs": [
    {
     "name": "stdout",
     "output_type": "stream",
     "text": [
      "Album year is 1984\n",
      "etc.\n"
     ]
    }
   ],
   "source": [
    "# Corrected condition statement example\n",
    "    \n",
    "album_year = 1984\n",
    "    \n",
    "if not(album_year == 1984):\n",
    "    print(\"Album year is not 1984\")\n",
    "else:\n",
    "    print(\"Album year is 1984\")\n",
    "\n",
    "print(\"etc.\")"
   ]
  },
  {
   "cell_type": "markdown",
   "metadata": {},
   "source": [
    "### 3.1.1 Conditions and Branching Quiz"
   ]
  },
  {
   "cell_type": "code",
   "execution_count": 1,
   "metadata": {},
   "outputs": [
    {
     "name": "stdout",
     "output_type": "stream",
     "text": [
      "this is a\n"
     ]
    }
   ],
   "source": [
    "# What is the output of the following\n",
    "\n",
    "x='a'\n",
    "\n",
    "if(x!='a'):\n",
    "\n",
    "    print(\"this is not a\")\n",
    "\n",
    "else:\n",
    "\n",
    "    print(\"this is a\")"
   ]
  },
  {
   "cell_type": "code",
   "execution_count": 2,
   "metadata": {},
   "outputs": [
    {
     "data": {
      "text/plain": [
       "True"
      ]
     },
     "execution_count": 2,
     "metadata": {},
     "output_type": "execute_result"
    }
   ],
   "source": [
    "# Find the value of i that produces a True\n",
    "\n",
    "i=2\n",
    "i!=0"
   ]
  },
  {
   "cell_type": "code",
   "execution_count": 5,
   "metadata": {},
   "outputs": [
    {
     "name": "stdout",
     "output_type": "stream",
     "text": [
      "this is a\n"
     ]
    }
   ],
   "source": [
    "# Find the value of x that prints the statement: \"this is a\"\n",
    "\n",
    "x = 'a'\n",
    "if(x == 'a'):\n",
    "    print(\"this is a\")\n",
    "else:\n",
    "    print(\"this is  not a\")"
   ]
  },
  {
   "cell_type": "code",
   "execution_count": 6,
   "metadata": {},
   "outputs": [
    {
     "data": {
      "text/plain": [
       "True"
      ]
     },
     "execution_count": 6,
     "metadata": {},
     "output_type": "execute_result"
    }
   ],
   "source": [
    "# Find the value of y that produces a True statement\n",
    "\n",
    "y = 5\n",
    "x = 1\n",
    "x>0 and y<10"
   ]
  },
  {
   "cell_type": "code",
   "execution_count": 51,
   "metadata": {},
   "outputs": [
    {
     "name": "stdout",
     "output_type": "stream",
     "text": [
      "This album is amazing!\n",
      "etc.\n"
     ]
    }
   ],
   "source": [
    "# Write an if statement to determine if an album had a rating \n",
    "# greater than 8. Test it using the rating for the album \n",
    "# “Back in Black” that had a rating of 8.5. If the statement \n",
    "# is true print \"This album is amazing!\"\n",
    "\n",
    "album_rating = 8.5\n",
    "\n",
    "if album_rating > 8:\n",
    "    print(\"This album is amazing!\")\n",
    "\n",
    "print(\"etc.\")"
   ]
  },
  {
   "cell_type": "code",
   "execution_count": 55,
   "metadata": {},
   "outputs": [
    {
     "name": "stdout",
     "output_type": "stream",
     "text": [
      "This album is amazing!\n",
      "etc.\n"
     ]
    }
   ],
   "source": [
    "# Write an if-else statement that performs the following. \n",
    "# If the rating is larger then eight print “this album is \n",
    "# amazing”. If the rating is less than or equal to 8 print \n",
    "# “this album is ok”.\n",
    "\n",
    "album_rating = 8.5\n",
    "\n",
    "if album_rating > 8:\n",
    "    print(\"This album is amazing!\")\n",
    "else:\n",
    "    print(\"This album is ok\")\n",
    "    \n",
    "print(\"etc.\")"
   ]
  },
  {
   "cell_type": "code",
   "execution_count": 72,
   "metadata": {},
   "outputs": [
    {
     "name": "stdout",
     "output_type": "stream",
     "text": [
      "This album was released in 1973\n"
     ]
    }
   ],
   "source": [
    "# Write an if statement to determine if an album came out before \n",
    "# 1980 or in the years: 1991 or 1993. If the condition is true \n",
    "# print out the year the album came out.\n",
    "\n",
    "album_release = 1973\n",
    "\n",
    "if (album_release < 1980) or (album_release == 1991) or \\\n",
    "(album_release == 1993):\n",
    "    print(\"This album was released in %d\" % album_release)\n",
    "else:\n",
    "    print(\"This album was not released before 1980, \"\n",
    "      \"nor in 1991 or 1993\")"
   ]
  },
  {
   "cell_type": "markdown",
   "metadata": {},
   "source": [
    "## 3.2 Loops"
   ]
  },
  {
   "cell_type": "markdown",
   "metadata": {},
   "source": [
    "### 3.2.1 Loops Quiz"
   ]
  },
  {
   "cell_type": "code",
   "execution_count": 74,
   "metadata": {},
   "outputs": [
    {
     "name": "stdout",
     "output_type": "stream",
     "text": [
      "3\n",
      "4\n",
      "5\n"
     ]
    }
   ],
   "source": [
    "# Use loops to print out the elements in the list A\n",
    "\n",
    "A = [3, 4, 5]\n",
    "\n",
    "for i in A:\n",
    "    print(i)"
   ]
  },
  {
   "cell_type": "code",
   "execution_count": 75,
   "metadata": {},
   "outputs": [
    {
     "name": "stdout",
     "output_type": "stream",
     "text": [
      "1\n",
      "2\n",
      "3\n",
      "4\n",
      "5\n",
      "6\n",
      "7\n",
      "8\n",
      "9\n",
      "10\n"
     ]
    }
   ],
   "source": [
    "# Find the value of x that will print out the sequence\n",
    "# 1,2,..,10\n",
    "\n",
    "x = 11\n",
    "y = 1\n",
    "while(y != x):\n",
    "    print(y)\n",
    "    y = y + 1"
   ]
  },
  {
   "cell_type": "code",
   "execution_count": 76,
   "metadata": {},
   "outputs": [
    {
     "name": "stdout",
     "output_type": "stream",
     "text": [
      "3\n",
      "4\n",
      "5\n"
     ]
    }
   ],
   "source": [
    "# What is the output of the following lines of code?\n",
    "\n",
    "A = [3, 4, 5]\n",
    "\n",
    "for a in A:\n",
    "\n",
    "    print(a)"
   ]
  },
  {
   "cell_type": "code",
   "execution_count": 77,
   "metadata": {},
   "outputs": [
    {
     "name": "stdout",
     "output_type": "stream",
     "text": [
      "1\n",
      "2\n"
     ]
    }
   ],
   "source": [
    "# What is the output of the following lines of code?\n",
    "\n",
    "x = 3\n",
    "y = 1\n",
    "\n",
    "while(y != x):\n",
    "    print(y)\n",
    "    y = y + 1"
   ]
  },
  {
   "cell_type": "code",
   "execution_count": null,
   "metadata": {},
   "outputs": [],
   "source": []
  }
 ],
 "metadata": {
  "kernelspec": {
   "display_name": "Python 3",
   "language": "python",
   "name": "python3"
  },
  "language_info": {
   "codemirror_mode": {
    "name": "ipython",
    "version": 3
   },
   "file_extension": ".py",
   "mimetype": "text/x-python",
   "name": "python",
   "nbconvert_exporter": "python",
   "pygments_lexer": "ipython3",
   "version": "3.8.5"
  }
 },
 "nbformat": 4,
 "nbformat_minor": 4
}
